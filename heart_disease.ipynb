{
 "cells": [
  {
   "cell_type": "code",
   "execution_count": 1,
   "id": "97253272",
   "metadata": {},
   "outputs": [],
   "source": [
    "import pandas as pd\n",
    "import matplotlib.pyplot as plt\n",
    "import seaborn as sns\n",
    "import warnings\n",
    "warnings.filterwarnings(\"ignore\")"
   ]
  },
  {
   "cell_type": "code",
   "execution_count": 2,
   "id": "0ea057a5",
   "metadata": {},
   "outputs": [],
   "source": [
    "df = pd.read_csv(r\"C:\\Users\\hp\\Downloads\\heart_2020_cleaned.csv\")"
   ]
  },
  {
   "cell_type": "code",
   "execution_count": 3,
   "id": "4cbef7b5",
   "metadata": {},
   "outputs": [
    {
     "data": {
      "text/html": [
       "<div>\n",
       "<style scoped>\n",
       "    .dataframe tbody tr th:only-of-type {\n",
       "        vertical-align: middle;\n",
       "    }\n",
       "\n",
       "    .dataframe tbody tr th {\n",
       "        vertical-align: top;\n",
       "    }\n",
       "\n",
       "    .dataframe thead th {\n",
       "        text-align: right;\n",
       "    }\n",
       "</style>\n",
       "<table border=\"1\" class=\"dataframe\">\n",
       "  <thead>\n",
       "    <tr style=\"text-align: right;\">\n",
       "      <th></th>\n",
       "      <th>HeartDisease</th>\n",
       "      <th>BMI</th>\n",
       "      <th>Smoking</th>\n",
       "      <th>AlcoholDrinking</th>\n",
       "      <th>Stroke</th>\n",
       "      <th>PhysicalHealth</th>\n",
       "      <th>MentalHealth</th>\n",
       "      <th>DiffWalking</th>\n",
       "      <th>Sex</th>\n",
       "      <th>AgeCategory</th>\n",
       "      <th>Race</th>\n",
       "      <th>Diabetic</th>\n",
       "      <th>PhysicalActivity</th>\n",
       "      <th>GenHealth</th>\n",
       "      <th>SleepTime</th>\n",
       "      <th>Asthma</th>\n",
       "      <th>KidneyDisease</th>\n",
       "      <th>SkinCancer</th>\n",
       "    </tr>\n",
       "  </thead>\n",
       "  <tbody>\n",
       "    <tr>\n",
       "      <th>0</th>\n",
       "      <td>No</td>\n",
       "      <td>16.60</td>\n",
       "      <td>Yes</td>\n",
       "      <td>No</td>\n",
       "      <td>No</td>\n",
       "      <td>3.0</td>\n",
       "      <td>30.0</td>\n",
       "      <td>No</td>\n",
       "      <td>Female</td>\n",
       "      <td>55-59</td>\n",
       "      <td>White</td>\n",
       "      <td>Yes</td>\n",
       "      <td>Yes</td>\n",
       "      <td>Very good</td>\n",
       "      <td>5.0</td>\n",
       "      <td>Yes</td>\n",
       "      <td>No</td>\n",
       "      <td>Yes</td>\n",
       "    </tr>\n",
       "    <tr>\n",
       "      <th>1</th>\n",
       "      <td>No</td>\n",
       "      <td>20.34</td>\n",
       "      <td>No</td>\n",
       "      <td>No</td>\n",
       "      <td>Yes</td>\n",
       "      <td>0.0</td>\n",
       "      <td>0.0</td>\n",
       "      <td>No</td>\n",
       "      <td>Female</td>\n",
       "      <td>80 or older</td>\n",
       "      <td>White</td>\n",
       "      <td>No</td>\n",
       "      <td>Yes</td>\n",
       "      <td>Very good</td>\n",
       "      <td>7.0</td>\n",
       "      <td>No</td>\n",
       "      <td>No</td>\n",
       "      <td>No</td>\n",
       "    </tr>\n",
       "    <tr>\n",
       "      <th>2</th>\n",
       "      <td>No</td>\n",
       "      <td>26.58</td>\n",
       "      <td>Yes</td>\n",
       "      <td>No</td>\n",
       "      <td>No</td>\n",
       "      <td>20.0</td>\n",
       "      <td>30.0</td>\n",
       "      <td>No</td>\n",
       "      <td>Male</td>\n",
       "      <td>65-69</td>\n",
       "      <td>White</td>\n",
       "      <td>Yes</td>\n",
       "      <td>Yes</td>\n",
       "      <td>Fair</td>\n",
       "      <td>8.0</td>\n",
       "      <td>Yes</td>\n",
       "      <td>No</td>\n",
       "      <td>No</td>\n",
       "    </tr>\n",
       "    <tr>\n",
       "      <th>3</th>\n",
       "      <td>No</td>\n",
       "      <td>24.21</td>\n",
       "      <td>No</td>\n",
       "      <td>No</td>\n",
       "      <td>No</td>\n",
       "      <td>0.0</td>\n",
       "      <td>0.0</td>\n",
       "      <td>No</td>\n",
       "      <td>Female</td>\n",
       "      <td>75-79</td>\n",
       "      <td>White</td>\n",
       "      <td>No</td>\n",
       "      <td>No</td>\n",
       "      <td>Good</td>\n",
       "      <td>6.0</td>\n",
       "      <td>No</td>\n",
       "      <td>No</td>\n",
       "      <td>Yes</td>\n",
       "    </tr>\n",
       "    <tr>\n",
       "      <th>4</th>\n",
       "      <td>No</td>\n",
       "      <td>23.71</td>\n",
       "      <td>No</td>\n",
       "      <td>No</td>\n",
       "      <td>No</td>\n",
       "      <td>28.0</td>\n",
       "      <td>0.0</td>\n",
       "      <td>Yes</td>\n",
       "      <td>Female</td>\n",
       "      <td>40-44</td>\n",
       "      <td>White</td>\n",
       "      <td>No</td>\n",
       "      <td>Yes</td>\n",
       "      <td>Very good</td>\n",
       "      <td>8.0</td>\n",
       "      <td>No</td>\n",
       "      <td>No</td>\n",
       "      <td>No</td>\n",
       "    </tr>\n",
       "    <tr>\n",
       "      <th>5</th>\n",
       "      <td>Yes</td>\n",
       "      <td>28.87</td>\n",
       "      <td>Yes</td>\n",
       "      <td>No</td>\n",
       "      <td>No</td>\n",
       "      <td>6.0</td>\n",
       "      <td>0.0</td>\n",
       "      <td>Yes</td>\n",
       "      <td>Female</td>\n",
       "      <td>75-79</td>\n",
       "      <td>Black</td>\n",
       "      <td>No</td>\n",
       "      <td>No</td>\n",
       "      <td>Fair</td>\n",
       "      <td>12.0</td>\n",
       "      <td>No</td>\n",
       "      <td>No</td>\n",
       "      <td>No</td>\n",
       "    </tr>\n",
       "    <tr>\n",
       "      <th>6</th>\n",
       "      <td>No</td>\n",
       "      <td>21.63</td>\n",
       "      <td>No</td>\n",
       "      <td>No</td>\n",
       "      <td>No</td>\n",
       "      <td>15.0</td>\n",
       "      <td>0.0</td>\n",
       "      <td>No</td>\n",
       "      <td>Female</td>\n",
       "      <td>70-74</td>\n",
       "      <td>White</td>\n",
       "      <td>No</td>\n",
       "      <td>Yes</td>\n",
       "      <td>Fair</td>\n",
       "      <td>4.0</td>\n",
       "      <td>Yes</td>\n",
       "      <td>No</td>\n",
       "      <td>Yes</td>\n",
       "    </tr>\n",
       "    <tr>\n",
       "      <th>7</th>\n",
       "      <td>No</td>\n",
       "      <td>31.64</td>\n",
       "      <td>Yes</td>\n",
       "      <td>No</td>\n",
       "      <td>No</td>\n",
       "      <td>5.0</td>\n",
       "      <td>0.0</td>\n",
       "      <td>Yes</td>\n",
       "      <td>Female</td>\n",
       "      <td>80 or older</td>\n",
       "      <td>White</td>\n",
       "      <td>Yes</td>\n",
       "      <td>No</td>\n",
       "      <td>Good</td>\n",
       "      <td>9.0</td>\n",
       "      <td>Yes</td>\n",
       "      <td>No</td>\n",
       "      <td>No</td>\n",
       "    </tr>\n",
       "    <tr>\n",
       "      <th>8</th>\n",
       "      <td>No</td>\n",
       "      <td>26.45</td>\n",
       "      <td>No</td>\n",
       "      <td>No</td>\n",
       "      <td>No</td>\n",
       "      <td>0.0</td>\n",
       "      <td>0.0</td>\n",
       "      <td>No</td>\n",
       "      <td>Female</td>\n",
       "      <td>80 or older</td>\n",
       "      <td>White</td>\n",
       "      <td>No, borderline diabetes</td>\n",
       "      <td>No</td>\n",
       "      <td>Fair</td>\n",
       "      <td>5.0</td>\n",
       "      <td>No</td>\n",
       "      <td>Yes</td>\n",
       "      <td>No</td>\n",
       "    </tr>\n",
       "    <tr>\n",
       "      <th>9</th>\n",
       "      <td>No</td>\n",
       "      <td>40.69</td>\n",
       "      <td>No</td>\n",
       "      <td>No</td>\n",
       "      <td>No</td>\n",
       "      <td>0.0</td>\n",
       "      <td>0.0</td>\n",
       "      <td>Yes</td>\n",
       "      <td>Male</td>\n",
       "      <td>65-69</td>\n",
       "      <td>White</td>\n",
       "      <td>No</td>\n",
       "      <td>Yes</td>\n",
       "      <td>Good</td>\n",
       "      <td>10.0</td>\n",
       "      <td>No</td>\n",
       "      <td>No</td>\n",
       "      <td>No</td>\n",
       "    </tr>\n",
       "    <tr>\n",
       "      <th>10</th>\n",
       "      <td>Yes</td>\n",
       "      <td>34.30</td>\n",
       "      <td>Yes</td>\n",
       "      <td>No</td>\n",
       "      <td>No</td>\n",
       "      <td>30.0</td>\n",
       "      <td>0.0</td>\n",
       "      <td>Yes</td>\n",
       "      <td>Male</td>\n",
       "      <td>60-64</td>\n",
       "      <td>White</td>\n",
       "      <td>Yes</td>\n",
       "      <td>No</td>\n",
       "      <td>Poor</td>\n",
       "      <td>15.0</td>\n",
       "      <td>Yes</td>\n",
       "      <td>No</td>\n",
       "      <td>No</td>\n",
       "    </tr>\n",
       "    <tr>\n",
       "      <th>11</th>\n",
       "      <td>No</td>\n",
       "      <td>28.71</td>\n",
       "      <td>Yes</td>\n",
       "      <td>No</td>\n",
       "      <td>No</td>\n",
       "      <td>0.0</td>\n",
       "      <td>0.0</td>\n",
       "      <td>No</td>\n",
       "      <td>Female</td>\n",
       "      <td>55-59</td>\n",
       "      <td>White</td>\n",
       "      <td>No</td>\n",
       "      <td>Yes</td>\n",
       "      <td>Very good</td>\n",
       "      <td>5.0</td>\n",
       "      <td>No</td>\n",
       "      <td>No</td>\n",
       "      <td>No</td>\n",
       "    </tr>\n",
       "    <tr>\n",
       "      <th>12</th>\n",
       "      <td>No</td>\n",
       "      <td>28.37</td>\n",
       "      <td>Yes</td>\n",
       "      <td>No</td>\n",
       "      <td>No</td>\n",
       "      <td>0.0</td>\n",
       "      <td>0.0</td>\n",
       "      <td>Yes</td>\n",
       "      <td>Male</td>\n",
       "      <td>75-79</td>\n",
       "      <td>White</td>\n",
       "      <td>Yes</td>\n",
       "      <td>Yes</td>\n",
       "      <td>Very good</td>\n",
       "      <td>8.0</td>\n",
       "      <td>No</td>\n",
       "      <td>No</td>\n",
       "      <td>No</td>\n",
       "    </tr>\n",
       "    <tr>\n",
       "      <th>13</th>\n",
       "      <td>No</td>\n",
       "      <td>28.15</td>\n",
       "      <td>No</td>\n",
       "      <td>No</td>\n",
       "      <td>No</td>\n",
       "      <td>7.0</td>\n",
       "      <td>0.0</td>\n",
       "      <td>Yes</td>\n",
       "      <td>Female</td>\n",
       "      <td>80 or older</td>\n",
       "      <td>White</td>\n",
       "      <td>No</td>\n",
       "      <td>No</td>\n",
       "      <td>Good</td>\n",
       "      <td>7.0</td>\n",
       "      <td>No</td>\n",
       "      <td>No</td>\n",
       "      <td>No</td>\n",
       "    </tr>\n",
       "    <tr>\n",
       "      <th>14</th>\n",
       "      <td>No</td>\n",
       "      <td>29.29</td>\n",
       "      <td>Yes</td>\n",
       "      <td>No</td>\n",
       "      <td>No</td>\n",
       "      <td>0.0</td>\n",
       "      <td>30.0</td>\n",
       "      <td>Yes</td>\n",
       "      <td>Female</td>\n",
       "      <td>60-64</td>\n",
       "      <td>White</td>\n",
       "      <td>No</td>\n",
       "      <td>No</td>\n",
       "      <td>Good</td>\n",
       "      <td>5.0</td>\n",
       "      <td>No</td>\n",
       "      <td>No</td>\n",
       "      <td>No</td>\n",
       "    </tr>\n",
       "    <tr>\n",
       "      <th>15</th>\n",
       "      <td>No</td>\n",
       "      <td>29.18</td>\n",
       "      <td>No</td>\n",
       "      <td>No</td>\n",
       "      <td>No</td>\n",
       "      <td>1.0</td>\n",
       "      <td>0.0</td>\n",
       "      <td>No</td>\n",
       "      <td>Female</td>\n",
       "      <td>50-54</td>\n",
       "      <td>White</td>\n",
       "      <td>No</td>\n",
       "      <td>Yes</td>\n",
       "      <td>Very good</td>\n",
       "      <td>6.0</td>\n",
       "      <td>No</td>\n",
       "      <td>No</td>\n",
       "      <td>No</td>\n",
       "    </tr>\n",
       "    <tr>\n",
       "      <th>16</th>\n",
       "      <td>No</td>\n",
       "      <td>26.26</td>\n",
       "      <td>No</td>\n",
       "      <td>No</td>\n",
       "      <td>No</td>\n",
       "      <td>5.0</td>\n",
       "      <td>2.0</td>\n",
       "      <td>No</td>\n",
       "      <td>Female</td>\n",
       "      <td>70-74</td>\n",
       "      <td>White</td>\n",
       "      <td>No</td>\n",
       "      <td>No</td>\n",
       "      <td>Very good</td>\n",
       "      <td>10.0</td>\n",
       "      <td>No</td>\n",
       "      <td>No</td>\n",
       "      <td>No</td>\n",
       "    </tr>\n",
       "    <tr>\n",
       "      <th>17</th>\n",
       "      <td>No</td>\n",
       "      <td>22.59</td>\n",
       "      <td>Yes</td>\n",
       "      <td>No</td>\n",
       "      <td>No</td>\n",
       "      <td>0.0</td>\n",
       "      <td>30.0</td>\n",
       "      <td>Yes</td>\n",
       "      <td>Male</td>\n",
       "      <td>70-74</td>\n",
       "      <td>White</td>\n",
       "      <td>No, borderline diabetes</td>\n",
       "      <td>Yes</td>\n",
       "      <td>Good</td>\n",
       "      <td>8.0</td>\n",
       "      <td>No</td>\n",
       "      <td>No</td>\n",
       "      <td>No</td>\n",
       "    </tr>\n",
       "    <tr>\n",
       "      <th>18</th>\n",
       "      <td>No</td>\n",
       "      <td>29.86</td>\n",
       "      <td>Yes</td>\n",
       "      <td>No</td>\n",
       "      <td>No</td>\n",
       "      <td>0.0</td>\n",
       "      <td>0.0</td>\n",
       "      <td>Yes</td>\n",
       "      <td>Female</td>\n",
       "      <td>75-79</td>\n",
       "      <td>Black</td>\n",
       "      <td>Yes</td>\n",
       "      <td>No</td>\n",
       "      <td>Fair</td>\n",
       "      <td>5.0</td>\n",
       "      <td>No</td>\n",
       "      <td>Yes</td>\n",
       "      <td>No</td>\n",
       "    </tr>\n",
       "    <tr>\n",
       "      <th>19</th>\n",
       "      <td>No</td>\n",
       "      <td>18.13</td>\n",
       "      <td>No</td>\n",
       "      <td>No</td>\n",
       "      <td>No</td>\n",
       "      <td>0.0</td>\n",
       "      <td>0.0</td>\n",
       "      <td>No</td>\n",
       "      <td>Male</td>\n",
       "      <td>80 or older</td>\n",
       "      <td>White</td>\n",
       "      <td>No</td>\n",
       "      <td>Yes</td>\n",
       "      <td>Excellent</td>\n",
       "      <td>8.0</td>\n",
       "      <td>No</td>\n",
       "      <td>No</td>\n",
       "      <td>Yes</td>\n",
       "    </tr>\n",
       "  </tbody>\n",
       "</table>\n",
       "</div>"
      ],
      "text/plain": [
       "   HeartDisease    BMI Smoking AlcoholDrinking Stroke  PhysicalHealth  \\\n",
       "0            No  16.60     Yes              No     No             3.0   \n",
       "1            No  20.34      No              No    Yes             0.0   \n",
       "2            No  26.58     Yes              No     No            20.0   \n",
       "3            No  24.21      No              No     No             0.0   \n",
       "4            No  23.71      No              No     No            28.0   \n",
       "5           Yes  28.87     Yes              No     No             6.0   \n",
       "6            No  21.63      No              No     No            15.0   \n",
       "7            No  31.64     Yes              No     No             5.0   \n",
       "8            No  26.45      No              No     No             0.0   \n",
       "9            No  40.69      No              No     No             0.0   \n",
       "10          Yes  34.30     Yes              No     No            30.0   \n",
       "11           No  28.71     Yes              No     No             0.0   \n",
       "12           No  28.37     Yes              No     No             0.0   \n",
       "13           No  28.15      No              No     No             7.0   \n",
       "14           No  29.29     Yes              No     No             0.0   \n",
       "15           No  29.18      No              No     No             1.0   \n",
       "16           No  26.26      No              No     No             5.0   \n",
       "17           No  22.59     Yes              No     No             0.0   \n",
       "18           No  29.86     Yes              No     No             0.0   \n",
       "19           No  18.13      No              No     No             0.0   \n",
       "\n",
       "    MentalHealth DiffWalking     Sex  AgeCategory   Race  \\\n",
       "0           30.0          No  Female        55-59  White   \n",
       "1            0.0          No  Female  80 or older  White   \n",
       "2           30.0          No    Male        65-69  White   \n",
       "3            0.0          No  Female        75-79  White   \n",
       "4            0.0         Yes  Female        40-44  White   \n",
       "5            0.0         Yes  Female        75-79  Black   \n",
       "6            0.0          No  Female        70-74  White   \n",
       "7            0.0         Yes  Female  80 or older  White   \n",
       "8            0.0          No  Female  80 or older  White   \n",
       "9            0.0         Yes    Male        65-69  White   \n",
       "10           0.0         Yes    Male        60-64  White   \n",
       "11           0.0          No  Female        55-59  White   \n",
       "12           0.0         Yes    Male        75-79  White   \n",
       "13           0.0         Yes  Female  80 or older  White   \n",
       "14          30.0         Yes  Female        60-64  White   \n",
       "15           0.0          No  Female        50-54  White   \n",
       "16           2.0          No  Female        70-74  White   \n",
       "17          30.0         Yes    Male        70-74  White   \n",
       "18           0.0         Yes  Female        75-79  Black   \n",
       "19           0.0          No    Male  80 or older  White   \n",
       "\n",
       "                   Diabetic PhysicalActivity  GenHealth  SleepTime Asthma  \\\n",
       "0                       Yes              Yes  Very good        5.0    Yes   \n",
       "1                        No              Yes  Very good        7.0     No   \n",
       "2                       Yes              Yes       Fair        8.0    Yes   \n",
       "3                        No               No       Good        6.0     No   \n",
       "4                        No              Yes  Very good        8.0     No   \n",
       "5                        No               No       Fair       12.0     No   \n",
       "6                        No              Yes       Fair        4.0    Yes   \n",
       "7                       Yes               No       Good        9.0    Yes   \n",
       "8   No, borderline diabetes               No       Fair        5.0     No   \n",
       "9                        No              Yes       Good       10.0     No   \n",
       "10                      Yes               No       Poor       15.0    Yes   \n",
       "11                       No              Yes  Very good        5.0     No   \n",
       "12                      Yes              Yes  Very good        8.0     No   \n",
       "13                       No               No       Good        7.0     No   \n",
       "14                       No               No       Good        5.0     No   \n",
       "15                       No              Yes  Very good        6.0     No   \n",
       "16                       No               No  Very good       10.0     No   \n",
       "17  No, borderline diabetes              Yes       Good        8.0     No   \n",
       "18                      Yes               No       Fair        5.0     No   \n",
       "19                       No              Yes  Excellent        8.0     No   \n",
       "\n",
       "   KidneyDisease SkinCancer  \n",
       "0             No        Yes  \n",
       "1             No         No  \n",
       "2             No         No  \n",
       "3             No        Yes  \n",
       "4             No         No  \n",
       "5             No         No  \n",
       "6             No        Yes  \n",
       "7             No         No  \n",
       "8            Yes         No  \n",
       "9             No         No  \n",
       "10            No         No  \n",
       "11            No         No  \n",
       "12            No         No  \n",
       "13            No         No  \n",
       "14            No         No  \n",
       "15            No         No  \n",
       "16            No         No  \n",
       "17            No         No  \n",
       "18           Yes         No  \n",
       "19            No        Yes  "
      ]
     },
     "execution_count": 3,
     "metadata": {},
     "output_type": "execute_result"
    }
   ],
   "source": [
    "df.head(20)"
   ]
  },
  {
   "cell_type": "markdown",
   "id": "39e58ca5",
   "metadata": {},
   "source": [
    "# EDA"
   ]
  },
  {
   "cell_type": "code",
   "execution_count": 4,
   "id": "013f1d18",
   "metadata": {},
   "outputs": [
    {
     "data": {
      "text/plain": [
       "(319795, 18)"
      ]
     },
     "execution_count": 4,
     "metadata": {},
     "output_type": "execute_result"
    }
   ],
   "source": [
    "df.shape"
   ]
  },
  {
   "cell_type": "code",
   "execution_count": 5,
   "id": "e86908fe",
   "metadata": {},
   "outputs": [
    {
     "data": {
      "text/plain": [
       "HeartDisease         object\n",
       "BMI                 float64\n",
       "Smoking              object\n",
       "AlcoholDrinking      object\n",
       "Stroke               object\n",
       "PhysicalHealth      float64\n",
       "MentalHealth        float64\n",
       "DiffWalking          object\n",
       "Sex                  object\n",
       "AgeCategory          object\n",
       "Race                 object\n",
       "Diabetic             object\n",
       "PhysicalActivity     object\n",
       "GenHealth            object\n",
       "SleepTime           float64\n",
       "Asthma               object\n",
       "KidneyDisease        object\n",
       "SkinCancer           object\n",
       "dtype: object"
      ]
     },
     "execution_count": 5,
     "metadata": {},
     "output_type": "execute_result"
    }
   ],
   "source": [
    "df.dtypes"
   ]
  },
  {
   "cell_type": "code",
   "execution_count": 6,
   "id": "4380de36",
   "metadata": {
    "scrolled": true
   },
   "outputs": [
    {
     "data": {
      "text/plain": [
       "HeartDisease        0\n",
       "BMI                 0\n",
       "Smoking             0\n",
       "AlcoholDrinking     0\n",
       "Stroke              0\n",
       "PhysicalHealth      0\n",
       "MentalHealth        0\n",
       "DiffWalking         0\n",
       "Sex                 0\n",
       "AgeCategory         0\n",
       "Race                0\n",
       "Diabetic            0\n",
       "PhysicalActivity    0\n",
       "GenHealth           0\n",
       "SleepTime           0\n",
       "Asthma              0\n",
       "KidneyDisease       0\n",
       "SkinCancer          0\n",
       "dtype: int64"
      ]
     },
     "execution_count": 6,
     "metadata": {},
     "output_type": "execute_result"
    }
   ],
   "source": [
    "df.isna().sum()"
   ]
  },
  {
   "cell_type": "code",
   "execution_count": 7,
   "id": "27a96f92",
   "metadata": {},
   "outputs": [
    {
     "data": {
      "text/html": [
       "<div>\n",
       "<style scoped>\n",
       "    .dataframe tbody tr th:only-of-type {\n",
       "        vertical-align: middle;\n",
       "    }\n",
       "\n",
       "    .dataframe tbody tr th {\n",
       "        vertical-align: top;\n",
       "    }\n",
       "\n",
       "    .dataframe thead th {\n",
       "        text-align: right;\n",
       "    }\n",
       "</style>\n",
       "<table border=\"1\" class=\"dataframe\">\n",
       "  <thead>\n",
       "    <tr style=\"text-align: right;\">\n",
       "      <th></th>\n",
       "      <th>HeartDisease</th>\n",
       "      <th>BMI</th>\n",
       "      <th>Smoking</th>\n",
       "      <th>AlcoholDrinking</th>\n",
       "      <th>Stroke</th>\n",
       "      <th>PhysicalHealth</th>\n",
       "      <th>MentalHealth</th>\n",
       "      <th>DiffWalking</th>\n",
       "      <th>Sex</th>\n",
       "      <th>AgeCategory</th>\n",
       "      <th>Race</th>\n",
       "      <th>Diabetic</th>\n",
       "      <th>PhysicalActivity</th>\n",
       "      <th>GenHealth</th>\n",
       "      <th>SleepTime</th>\n",
       "      <th>Asthma</th>\n",
       "      <th>KidneyDisease</th>\n",
       "      <th>SkinCancer</th>\n",
       "    </tr>\n",
       "  </thead>\n",
       "  <tbody>\n",
       "    <tr>\n",
       "      <th>0</th>\n",
       "      <td>No</td>\n",
       "      <td>16.60</td>\n",
       "      <td>Yes</td>\n",
       "      <td>No</td>\n",
       "      <td>No</td>\n",
       "      <td>3.0</td>\n",
       "      <td>30.0</td>\n",
       "      <td>No</td>\n",
       "      <td>Female</td>\n",
       "      <td>55-59</td>\n",
       "      <td>White</td>\n",
       "      <td>Yes</td>\n",
       "      <td>Yes</td>\n",
       "      <td>Very good</td>\n",
       "      <td>5.0</td>\n",
       "      <td>Yes</td>\n",
       "      <td>No</td>\n",
       "      <td>Yes</td>\n",
       "    </tr>\n",
       "    <tr>\n",
       "      <th>1</th>\n",
       "      <td>No</td>\n",
       "      <td>20.34</td>\n",
       "      <td>No</td>\n",
       "      <td>No</td>\n",
       "      <td>Yes</td>\n",
       "      <td>0.0</td>\n",
       "      <td>0.0</td>\n",
       "      <td>No</td>\n",
       "      <td>Female</td>\n",
       "      <td>80 or older</td>\n",
       "      <td>White</td>\n",
       "      <td>No</td>\n",
       "      <td>Yes</td>\n",
       "      <td>Very good</td>\n",
       "      <td>7.0</td>\n",
       "      <td>No</td>\n",
       "      <td>No</td>\n",
       "      <td>No</td>\n",
       "    </tr>\n",
       "    <tr>\n",
       "      <th>2</th>\n",
       "      <td>No</td>\n",
       "      <td>26.58</td>\n",
       "      <td>Yes</td>\n",
       "      <td>No</td>\n",
       "      <td>No</td>\n",
       "      <td>20.0</td>\n",
       "      <td>30.0</td>\n",
       "      <td>No</td>\n",
       "      <td>Male</td>\n",
       "      <td>65-69</td>\n",
       "      <td>White</td>\n",
       "      <td>Yes</td>\n",
       "      <td>Yes</td>\n",
       "      <td>Fair</td>\n",
       "      <td>8.0</td>\n",
       "      <td>Yes</td>\n",
       "      <td>No</td>\n",
       "      <td>No</td>\n",
       "    </tr>\n",
       "    <tr>\n",
       "      <th>3</th>\n",
       "      <td>No</td>\n",
       "      <td>24.21</td>\n",
       "      <td>No</td>\n",
       "      <td>No</td>\n",
       "      <td>No</td>\n",
       "      <td>0.0</td>\n",
       "      <td>0.0</td>\n",
       "      <td>No</td>\n",
       "      <td>Female</td>\n",
       "      <td>75-79</td>\n",
       "      <td>White</td>\n",
       "      <td>No</td>\n",
       "      <td>No</td>\n",
       "      <td>Good</td>\n",
       "      <td>6.0</td>\n",
       "      <td>No</td>\n",
       "      <td>No</td>\n",
       "      <td>Yes</td>\n",
       "    </tr>\n",
       "    <tr>\n",
       "      <th>4</th>\n",
       "      <td>No</td>\n",
       "      <td>23.71</td>\n",
       "      <td>No</td>\n",
       "      <td>No</td>\n",
       "      <td>No</td>\n",
       "      <td>28.0</td>\n",
       "      <td>0.0</td>\n",
       "      <td>Yes</td>\n",
       "      <td>Female</td>\n",
       "      <td>40-44</td>\n",
       "      <td>White</td>\n",
       "      <td>No</td>\n",
       "      <td>Yes</td>\n",
       "      <td>Very good</td>\n",
       "      <td>8.0</td>\n",
       "      <td>No</td>\n",
       "      <td>No</td>\n",
       "      <td>No</td>\n",
       "    </tr>\n",
       "    <tr>\n",
       "      <th>...</th>\n",
       "      <td>...</td>\n",
       "      <td>...</td>\n",
       "      <td>...</td>\n",
       "      <td>...</td>\n",
       "      <td>...</td>\n",
       "      <td>...</td>\n",
       "      <td>...</td>\n",
       "      <td>...</td>\n",
       "      <td>...</td>\n",
       "      <td>...</td>\n",
       "      <td>...</td>\n",
       "      <td>...</td>\n",
       "      <td>...</td>\n",
       "      <td>...</td>\n",
       "      <td>...</td>\n",
       "      <td>...</td>\n",
       "      <td>...</td>\n",
       "      <td>...</td>\n",
       "    </tr>\n",
       "    <tr>\n",
       "      <th>319790</th>\n",
       "      <td>Yes</td>\n",
       "      <td>27.41</td>\n",
       "      <td>Yes</td>\n",
       "      <td>No</td>\n",
       "      <td>No</td>\n",
       "      <td>7.0</td>\n",
       "      <td>0.0</td>\n",
       "      <td>Yes</td>\n",
       "      <td>Male</td>\n",
       "      <td>60-64</td>\n",
       "      <td>Hispanic</td>\n",
       "      <td>Yes</td>\n",
       "      <td>No</td>\n",
       "      <td>Fair</td>\n",
       "      <td>6.0</td>\n",
       "      <td>Yes</td>\n",
       "      <td>No</td>\n",
       "      <td>No</td>\n",
       "    </tr>\n",
       "    <tr>\n",
       "      <th>319791</th>\n",
       "      <td>No</td>\n",
       "      <td>29.84</td>\n",
       "      <td>Yes</td>\n",
       "      <td>No</td>\n",
       "      <td>No</td>\n",
       "      <td>0.0</td>\n",
       "      <td>0.0</td>\n",
       "      <td>No</td>\n",
       "      <td>Male</td>\n",
       "      <td>35-39</td>\n",
       "      <td>Hispanic</td>\n",
       "      <td>No</td>\n",
       "      <td>Yes</td>\n",
       "      <td>Very good</td>\n",
       "      <td>5.0</td>\n",
       "      <td>Yes</td>\n",
       "      <td>No</td>\n",
       "      <td>No</td>\n",
       "    </tr>\n",
       "    <tr>\n",
       "      <th>319792</th>\n",
       "      <td>No</td>\n",
       "      <td>24.24</td>\n",
       "      <td>No</td>\n",
       "      <td>No</td>\n",
       "      <td>No</td>\n",
       "      <td>0.0</td>\n",
       "      <td>0.0</td>\n",
       "      <td>No</td>\n",
       "      <td>Female</td>\n",
       "      <td>45-49</td>\n",
       "      <td>Hispanic</td>\n",
       "      <td>No</td>\n",
       "      <td>Yes</td>\n",
       "      <td>Good</td>\n",
       "      <td>6.0</td>\n",
       "      <td>No</td>\n",
       "      <td>No</td>\n",
       "      <td>No</td>\n",
       "    </tr>\n",
       "    <tr>\n",
       "      <th>319793</th>\n",
       "      <td>No</td>\n",
       "      <td>32.81</td>\n",
       "      <td>No</td>\n",
       "      <td>No</td>\n",
       "      <td>No</td>\n",
       "      <td>0.0</td>\n",
       "      <td>0.0</td>\n",
       "      <td>No</td>\n",
       "      <td>Female</td>\n",
       "      <td>25-29</td>\n",
       "      <td>Hispanic</td>\n",
       "      <td>No</td>\n",
       "      <td>No</td>\n",
       "      <td>Good</td>\n",
       "      <td>12.0</td>\n",
       "      <td>No</td>\n",
       "      <td>No</td>\n",
       "      <td>No</td>\n",
       "    </tr>\n",
       "    <tr>\n",
       "      <th>319794</th>\n",
       "      <td>No</td>\n",
       "      <td>46.56</td>\n",
       "      <td>No</td>\n",
       "      <td>No</td>\n",
       "      <td>No</td>\n",
       "      <td>0.0</td>\n",
       "      <td>0.0</td>\n",
       "      <td>No</td>\n",
       "      <td>Female</td>\n",
       "      <td>80 or older</td>\n",
       "      <td>Hispanic</td>\n",
       "      <td>No</td>\n",
       "      <td>Yes</td>\n",
       "      <td>Good</td>\n",
       "      <td>8.0</td>\n",
       "      <td>No</td>\n",
       "      <td>No</td>\n",
       "      <td>No</td>\n",
       "    </tr>\n",
       "  </tbody>\n",
       "</table>\n",
       "<p>319795 rows × 18 columns</p>\n",
       "</div>"
      ],
      "text/plain": [
       "       HeartDisease    BMI Smoking AlcoholDrinking Stroke  PhysicalHealth  \\\n",
       "0                No  16.60     Yes              No     No             3.0   \n",
       "1                No  20.34      No              No    Yes             0.0   \n",
       "2                No  26.58     Yes              No     No            20.0   \n",
       "3                No  24.21      No              No     No             0.0   \n",
       "4                No  23.71      No              No     No            28.0   \n",
       "...             ...    ...     ...             ...    ...             ...   \n",
       "319790          Yes  27.41     Yes              No     No             7.0   \n",
       "319791           No  29.84     Yes              No     No             0.0   \n",
       "319792           No  24.24      No              No     No             0.0   \n",
       "319793           No  32.81      No              No     No             0.0   \n",
       "319794           No  46.56      No              No     No             0.0   \n",
       "\n",
       "        MentalHealth DiffWalking     Sex  AgeCategory      Race Diabetic  \\\n",
       "0               30.0          No  Female        55-59     White      Yes   \n",
       "1                0.0          No  Female  80 or older     White       No   \n",
       "2               30.0          No    Male        65-69     White      Yes   \n",
       "3                0.0          No  Female        75-79     White       No   \n",
       "4                0.0         Yes  Female        40-44     White       No   \n",
       "...              ...         ...     ...          ...       ...      ...   \n",
       "319790           0.0         Yes    Male        60-64  Hispanic      Yes   \n",
       "319791           0.0          No    Male        35-39  Hispanic       No   \n",
       "319792           0.0          No  Female        45-49  Hispanic       No   \n",
       "319793           0.0          No  Female        25-29  Hispanic       No   \n",
       "319794           0.0          No  Female  80 or older  Hispanic       No   \n",
       "\n",
       "       PhysicalActivity  GenHealth  SleepTime Asthma KidneyDisease SkinCancer  \n",
       "0                   Yes  Very good        5.0    Yes            No        Yes  \n",
       "1                   Yes  Very good        7.0     No            No         No  \n",
       "2                   Yes       Fair        8.0    Yes            No         No  \n",
       "3                    No       Good        6.0     No            No        Yes  \n",
       "4                   Yes  Very good        8.0     No            No         No  \n",
       "...                 ...        ...        ...    ...           ...        ...  \n",
       "319790               No       Fair        6.0    Yes            No         No  \n",
       "319791              Yes  Very good        5.0    Yes            No         No  \n",
       "319792              Yes       Good        6.0     No            No         No  \n",
       "319793               No       Good       12.0     No            No         No  \n",
       "319794              Yes       Good        8.0     No            No         No  \n",
       "\n",
       "[319795 rows x 18 columns]"
      ]
     },
     "execution_count": 7,
     "metadata": {},
     "output_type": "execute_result"
    }
   ],
   "source": [
    "df"
   ]
  },
  {
   "cell_type": "code",
   "execution_count": 8,
   "id": "eedbb484",
   "metadata": {},
   "outputs": [],
   "source": [
    "cls = ['Smoking', 'AlcoholDrinking', 'Stroke','DiffWalking', 'PhysicalActivity', 'GenHealth',\n",
    "       'Asthma', 'KidneyDisease', 'SkinCancer']"
   ]
  },
  {
   "cell_type": "code",
   "execution_count": 9,
   "id": "4e358e42",
   "metadata": {},
   "outputs": [
    {
     "data": {
      "image/png": "[encoded data removed]",
      "text/plain": [
       "<Figure size 432x288 with 1 Axes>"
      ]
     },
     "metadata": {
      "needs_background": "light"
     },
     "output_type": "display_data"
    },
    {
     "data": {
      "image/png": "[encoded data removed]",
      "text/plain": [
       "<Figure size 432x288 with 1 Axes>"
      ]
     },
     "metadata": {
      "needs_background": "light"
     },
     "output_type": "display_data"
    },
    {
     "data": {
      "image/png": "[encoded data removed]",
      "text/plain": [
       "<Figure size 432x288 with 1 Axes>"
      ]
     },
     "metadata": {
      "needs_background": "light"
     },
     "output_type": "display_data"
    },
    {
     "data": {
      "image/png": "[encoded data removed]",
      "text/plain": [
       "<Figure size 432x288 with 1 Axes>"
      ]
     },
     "metadata": {
      "needs_background": "light"
     },
     "output_type": "display_data"
    },
    {
     "data": {
      "image/png": "[encoded data removed]",
      "text/plain": [
       "<Figure size 432x288 with 1 Axes>"
      ]
     },
     "metadata": {
      "needs_background": "light"
     },
     "output_type": "display_data"
    },
    {
     "data": {
      "image/png": "[encoded data removed]",
      "text/plain": [
       "<Figure size 432x288 with 1 Axes>"
      ]
     },
     "metadata": {
      "needs_background": "light"
     },
     "output_type": "display_data"
    },
    {
     "data": {
      "image/png": "[encoded data removed]",
      "text/plain": [
       "<Figure size 432x288 with 1 Axes>"
      ]
     },
     "metadata": {
      "needs_background": "light"
     },
     "output_type": "display_data"
    },
    {
     "data": {
      "image/png": "[encoded data removed]",
      "text/plain": [
       "<Figure size 432x288 with 1 Axes>"
      ]
     },
     "metadata": {
      "needs_background": "light"
     },
     "output_type": "display_data"
    },
    {
     "data": {
      "image/png": "[encoded data removed]",
      "text/plain": [
       "<Figure size 432x288 with 1 Axes>"
      ]
     },
     "metadata": {
      "needs_background": "light"
     },
     "output_type": "display_data"
    }
   ],
   "source": [
    "for i in cls:\n",
    "    sns.countplot(df[i],hue=\"HeartDisease\",data=df)\n",
    "    plt.show()"
   ]
  },
  {
   "cell_type": "code",
   "execution_count": 10,
   "id": "8b9d31fd",
   "metadata": {},
   "outputs": [
    {
     "data": {
      "image/png": "[encoded data removed]",
      "text/plain": [
       "<Figure size 864x576 with 1 Axes>"
      ]
     },
     "metadata": {
      "needs_background": "light"
     },
     "output_type": "display_data"
    }
   ],
   "source": [
    "plt.figure(figsize=(12,8))\n",
    "sns.barplot(df[\"Diabetic\"].value_counts(),df[\"Diabetic\"].unique())\n",
    "plt.title(\"Diabetics\")\n",
    "plt.show()"
   ]
  },
  {
   "cell_type": "code",
   "execution_count": 11,
   "id": "ab37170f",
   "metadata": {},
   "outputs": [],
   "source": [
    "df1 = df.copy()"
   ]
  },
  {
   "cell_type": "code",
   "execution_count": 12,
   "id": "f75a1e3a",
   "metadata": {},
   "outputs": [],
   "source": [
    "from sklearn.preprocessing import LabelEncoder"
   ]
  },
  {
   "cell_type": "code",
   "execution_count": 13,
   "id": "e4ecaf43",
   "metadata": {},
   "outputs": [],
   "source": [
    "le = LabelEncoder()"
   ]
  },
  {
   "cell_type": "code",
   "execution_count": 14,
   "id": "5c87ae48",
   "metadata": {},
   "outputs": [],
   "source": [
    "cls1 = ['HeartDisease','Sex','Race','Smoking', 'AlcoholDrinking', 'Stroke','DiffWalking', 'PhysicalActivity', 'GenHealth',\n",
    "       'Asthma', 'KidneyDisease', 'SkinCancer','Diabetic','AgeCategory']"
   ]
  },
  {
   "cell_type": "code",
   "execution_count": 15,
   "id": "369c4760",
   "metadata": {},
   "outputs": [],
   "source": [
    "for i in cls1:\n",
    "    df1[i] = le.fit_transform(df1[i])\n",
    "    "
   ]
  },
  {
   "cell_type": "code",
   "execution_count": 16,
   "id": "5c13eff0",
   "metadata": {},
   "outputs": [
    {
     "data": {
      "text/html": [
       "<div>\n",
       "<style scoped>\n",
       "    .dataframe tbody tr th:only-of-type {\n",
       "        vertical-align: middle;\n",
       "    }\n",
       "\n",
       "    .dataframe tbody tr th {\n",
       "        vertical-align: top;\n",
       "    }\n",
       "\n",
       "    .dataframe thead th {\n",
       "        text-align: right;\n",
       "    }\n",
       "</style>\n",
       "<table border=\"1\" class=\"dataframe\">\n",
       "  <thead>\n",
       "    <tr style=\"text-align: right;\">\n",
       "      <th></th>\n",
       "      <th>HeartDisease</th>\n",
       "      <th>BMI</th>\n",
       "      <th>Smoking</th>\n",
       "      <th>AlcoholDrinking</th>\n",
       "      <th>Stroke</th>\n",
       "      <th>PhysicalHealth</th>\n",
       "      <th>MentalHealth</th>\n",
       "      <th>DiffWalking</th>\n",
       "      <th>Sex</th>\n",
       "      <th>AgeCategory</th>\n",
       "      <th>Race</th>\n",
       "      <th>Diabetic</th>\n",
       "      <th>PhysicalActivity</th>\n",
       "      <th>GenHealth</th>\n",
       "      <th>SleepTime</th>\n",
       "      <th>Asthma</th>\n",
       "      <th>KidneyDisease</th>\n",
       "      <th>SkinCancer</th>\n",
       "    </tr>\n",
       "  </thead>\n",
       "  <tbody>\n",
       "    <tr>\n",
       "      <th>0</th>\n",
       "      <td>0</td>\n",
       "      <td>16.60</td>\n",
       "      <td>1</td>\n",
       "      <td>0</td>\n",
       "      <td>0</td>\n",
       "      <td>3.0</td>\n",
       "      <td>30.0</td>\n",
       "      <td>0</td>\n",
       "      <td>0</td>\n",
       "      <td>7</td>\n",
       "      <td>5</td>\n",
       "      <td>2</td>\n",
       "      <td>1</td>\n",
       "      <td>4</td>\n",
       "      <td>5.0</td>\n",
       "      <td>1</td>\n",
       "      <td>0</td>\n",
       "      <td>1</td>\n",
       "    </tr>\n",
       "    <tr>\n",
       "      <th>1</th>\n",
       "      <td>0</td>\n",
       "      <td>20.34</td>\n",
       "      <td>0</td>\n",
       "      <td>0</td>\n",
       "      <td>1</td>\n",
       "      <td>0.0</td>\n",
       "      <td>0.0</td>\n",
       "      <td>0</td>\n",
       "      <td>0</td>\n",
       "      <td>12</td>\n",
       "      <td>5</td>\n",
       "      <td>0</td>\n",
       "      <td>1</td>\n",
       "      <td>4</td>\n",
       "      <td>7.0</td>\n",
       "      <td>0</td>\n",
       "      <td>0</td>\n",
       "      <td>0</td>\n",
       "    </tr>\n",
       "    <tr>\n",
       "      <th>2</th>\n",
       "      <td>0</td>\n",
       "      <td>26.58</td>\n",
       "      <td>1</td>\n",
       "      <td>0</td>\n",
       "      <td>0</td>\n",
       "      <td>20.0</td>\n",
       "      <td>30.0</td>\n",
       "      <td>0</td>\n",
       "      <td>1</td>\n",
       "      <td>9</td>\n",
       "      <td>5</td>\n",
       "      <td>2</td>\n",
       "      <td>1</td>\n",
       "      <td>1</td>\n",
       "      <td>8.0</td>\n",
       "      <td>1</td>\n",
       "      <td>0</td>\n",
       "      <td>0</td>\n",
       "    </tr>\n",
       "    <tr>\n",
       "      <th>3</th>\n",
       "      <td>0</td>\n",
       "      <td>24.21</td>\n",
       "      <td>0</td>\n",
       "      <td>0</td>\n",
       "      <td>0</td>\n",
       "      <td>0.0</td>\n",
       "      <td>0.0</td>\n",
       "      <td>0</td>\n",
       "      <td>0</td>\n",
       "      <td>11</td>\n",
       "      <td>5</td>\n",
       "      <td>0</td>\n",
       "      <td>0</td>\n",
       "      <td>2</td>\n",
       "      <td>6.0</td>\n",
       "      <td>0</td>\n",
       "      <td>0</td>\n",
       "      <td>1</td>\n",
       "    </tr>\n",
       "    <tr>\n",
       "      <th>4</th>\n",
       "      <td>0</td>\n",
       "      <td>23.71</td>\n",
       "      <td>0</td>\n",
       "      <td>0</td>\n",
       "      <td>0</td>\n",
       "      <td>28.0</td>\n",
       "      <td>0.0</td>\n",
       "      <td>1</td>\n",
       "      <td>0</td>\n",
       "      <td>4</td>\n",
       "      <td>5</td>\n",
       "      <td>0</td>\n",
       "      <td>1</td>\n",
       "      <td>4</td>\n",
       "      <td>8.0</td>\n",
       "      <td>0</td>\n",
       "      <td>0</td>\n",
       "      <td>0</td>\n",
       "    </tr>\n",
       "    <tr>\n",
       "      <th>...</th>\n",
       "      <td>...</td>\n",
       "      <td>...</td>\n",
       "      <td>...</td>\n",
       "      <td>...</td>\n",
       "      <td>...</td>\n",
       "      <td>...</td>\n",
       "      <td>...</td>\n",
       "      <td>...</td>\n",
       "      <td>...</td>\n",
       "      <td>...</td>\n",
       "      <td>...</td>\n",
       "      <td>...</td>\n",
       "      <td>...</td>\n",
       "      <td>...</td>\n",
       "      <td>...</td>\n",
       "      <td>...</td>\n",
       "      <td>...</td>\n",
       "      <td>...</td>\n",
       "    </tr>\n",
       "    <tr>\n",
       "      <th>319790</th>\n",
       "      <td>1</td>\n",
       "      <td>27.41</td>\n",
       "      <td>1</td>\n",
       "      <td>0</td>\n",
       "      <td>0</td>\n",
       "      <td>7.0</td>\n",
       "      <td>0.0</td>\n",
       "      <td>1</td>\n",
       "      <td>1</td>\n",
       "      <td>8</td>\n",
       "      <td>3</td>\n",
       "      <td>2</td>\n",
       "      <td>0</td>\n",
       "      <td>1</td>\n",
       "      <td>6.0</td>\n",
       "      <td>1</td>\n",
       "      <td>0</td>\n",
       "      <td>0</td>\n",
       "    </tr>\n",
       "    <tr>\n",
       "      <th>319791</th>\n",
       "      <td>0</td>\n",
       "      <td>29.84</td>\n",
       "      <td>1</td>\n",
       "      <td>0</td>\n",
       "      <td>0</td>\n",
       "      <td>0.0</td>\n",
       "      <td>0.0</td>\n",
       "      <td>0</td>\n",
       "      <td>1</td>\n",
       "      <td>3</td>\n",
       "      <td>3</td>\n",
       "      <td>0</td>\n",
       "      <td>1</td>\n",
       "      <td>4</td>\n",
       "      <td>5.0</td>\n",
       "      <td>1</td>\n",
       "      <td>0</td>\n",
       "      <td>0</td>\n",
       "    </tr>\n",
       "    <tr>\n",
       "      <th>319792</th>\n",
       "      <td>0</td>\n",
       "      <td>24.24</td>\n",
       "      <td>0</td>\n",
       "      <td>0</td>\n",
       "      <td>0</td>\n",
       "      <td>0.0</td>\n",
       "      <td>0.0</td>\n",
       "      <td>0</td>\n",
       "      <td>0</td>\n",
       "      <td>5</td>\n",
       "      <td>3</td>\n",
       "      <td>0</td>\n",
       "      <td>1</td>\n",
       "      <td>2</td>\n",
       "      <td>6.0</td>\n",
       "      <td>0</td>\n",
       "      <td>0</td>\n",
       "      <td>0</td>\n",
       "    </tr>\n",
       "    <tr>\n",
       "      <th>319793</th>\n",
       "      <td>0</td>\n",
       "      <td>32.81</td>\n",
       "      <td>0</td>\n",
       "      <td>0</td>\n",
       "      <td>0</td>\n",
       "      <td>0.0</td>\n",
       "      <td>0.0</td>\n",
       "      <td>0</td>\n",
       "      <td>0</td>\n",
       "      <td>1</td>\n",
       "      <td>3</td>\n",
       "      <td>0</td>\n",
       "      <td>0</td>\n",
       "      <td>2</td>\n",
       "      <td>12.0</td>\n",
       "      <td>0</td>\n",
       "      <td>0</td>\n",
       "      <td>0</td>\n",
       "    </tr>\n",
       "    <tr>\n",
       "      <th>319794</th>\n",
       "      <td>0</td>\n",
       "      <td>46.56</td>\n",
       "      <td>0</td>\n",
       "      <td>0</td>\n",
       "      <td>0</td>\n",
       "      <td>0.0</td>\n",
       "      <td>0.0</td>\n",
       "      <td>0</td>\n",
       "      <td>0</td>\n",
       "      <td>12</td>\n",
       "      <td>3</td>\n",
       "      <td>0</td>\n",
       "      <td>1</td>\n",
       "      <td>2</td>\n",
       "      <td>8.0</td>\n",
       "      <td>0</td>\n",
       "      <td>0</td>\n",
       "      <td>0</td>\n",
       "    </tr>\n",
       "  </tbody>\n",
       "</table>\n",
       "<p>319795 rows × 18 columns</p>\n",
       "</div>"
      ],
      "text/plain": [
       "        HeartDisease    BMI  Smoking  AlcoholDrinking  Stroke  PhysicalHealth  \\\n",
       "0                  0  16.60        1                0       0             3.0   \n",
       "1                  0  20.34        0                0       1             0.0   \n",
       "2                  0  26.58        1                0       0            20.0   \n",
       "3                  0  24.21        0                0       0             0.0   \n",
       "4                  0  23.71        0                0       0            28.0   \n",
       "...              ...    ...      ...              ...     ...             ...   \n",
       "319790             1  27.41        1                0       0             7.0   \n",
       "319791             0  29.84        1                0       0             0.0   \n",
       "319792             0  24.24        0                0       0             0.0   \n",
       "319793             0  32.81        0                0       0             0.0   \n",
       "319794             0  46.56        0                0       0             0.0   \n",
       "\n",
       "        MentalHealth  DiffWalking  Sex  AgeCategory  Race  Diabetic  \\\n",
       "0               30.0            0    0            7     5         2   \n",
       "1                0.0            0    0           12     5         0   \n",
       "2               30.0            0    1            9     5         2   \n",
       "3                0.0            0    0           11     5         0   \n",
       "4                0.0            1    0            4     5         0   \n",
       "...              ...          ...  ...          ...   ...       ...   \n",
       "319790           0.0            1    1            8     3         2   \n",
       "319791           0.0            0    1            3     3         0   \n",
       "319792           0.0            0    0            5     3         0   \n",
       "319793           0.0            0    0            1     3         0   \n",
       "319794           0.0            0    0           12     3         0   \n",
       "\n",
       "        PhysicalActivity  GenHealth  SleepTime  Asthma  KidneyDisease  \\\n",
       "0                      1          4        5.0       1              0   \n",
       "1                      1          4        7.0       0              0   \n",
       "2                      1          1        8.0       1              0   \n",
       "3                      0          2        6.0       0              0   \n",
       "4                      1          4        8.0       0              0   \n",
       "...                  ...        ...        ...     ...            ...   \n",
       "319790                 0          1        6.0       1              0   \n",
       "319791                 1          4        5.0       1              0   \n",
       "319792                 1          2        6.0       0              0   \n",
       "319793                 0          2       12.0       0              0   \n",
       "319794                 1          2        8.0       0              0   \n",
       "\n",
       "        SkinCancer  \n",
       "0                1  \n",
       "1                0  \n",
       "2                0  \n",
       "3                1  \n",
       "4                0  \n",
       "...            ...  \n",
       "319790           0  \n",
       "319791           0  \n",
       "319792           0  \n",
       "319793           0  \n",
       "319794           0  \n",
       "\n",
       "[319795 rows x 18 columns]"
      ]
     },
     "execution_count": 16,
     "metadata": {},
     "output_type": "execute_result"
    }
   ],
   "source": [
    "df1"
   ]
  },
  {
   "cell_type": "markdown",
   "id": "bdb0c3e7",
   "metadata": {},
   "source": [
    "###  HOW MANY SMOKERS & NON SMOKERS?"
   ]
  },
  {
   "cell_type": "code",
   "execution_count": 17,
   "id": "b06e72bb",
   "metadata": {},
   "outputs": [
    {
     "data": {
      "text/plain": [
       "<AxesSubplot:xlabel='Smoking', ylabel='count'>"
      ]
     },
     "execution_count": 17,
     "metadata": {},
     "output_type": "execute_result"
    },
    {
     "data": {
      "image/png": "[encoded data removed]",
      "text/plain": [
       "<Figure size 432x288 with 1 Axes>"
      ]
     },
     "metadata": {
      "needs_background": "light"
     },
     "output_type": "display_data"
    }
   ],
   "source": [
    "sns.countplot(df[\"Smoking\"])"
   ]
  },
  {
   "cell_type": "markdown",
   "id": "f6d82c39",
   "metadata": {},
   "source": [
    "131908 smokers & 187887 Non smokers"
   ]
  },
  {
   "cell_type": "markdown",
   "id": "3651a693",
   "metadata": {},
   "source": [
    "### HOW MANY SMOKERS HAVING ASTHMA"
   ]
  },
  {
   "cell_type": "code",
   "execution_count": 18,
   "id": "7083f43b",
   "metadata": {},
   "outputs": [
    {
     "name": "stdout",
     "output_type": "stream",
     "text": [
      "The smokers having Asthma is : 18979\n"
     ]
    }
   ],
   "source": [
    "Asthma_And_Smokers = 0\n",
    "for i,z in zip(df[\"Smoking\"],df[\"Asthma\"]):\n",
    "    if i == \"Yes\":\n",
    "        if z == \"Yes\":\n",
    "            Asthma_And_Smokers = Asthma_And_Smokers + 1\n",
    "print(\"The smokers having Asthma is :\" ,Asthma_And_Smokers)\n",
    "        "
   ]
  },
  {
   "cell_type": "markdown",
   "id": "76ac6007",
   "metadata": {},
   "source": [
    "### HOW MANY DIABETC LEAD TO HEART DISEASE"
   ]
  },
  {
   "cell_type": "code",
   "execution_count": 19,
   "id": "5678b255",
   "metadata": {},
   "outputs": [
    {
     "name": "stdout",
     "output_type": "stream",
     "text": [
      "The daibetic lead to heart disease : 8957\n"
     ]
    }
   ],
   "source": [
    "diabetic = 0\n",
    "for i,z in zip(df[\"Diabetic\"],df[\"HeartDisease\"]):\n",
    "    if i == \"Yes\":\n",
    "        if z == \"Yes\":\n",
    "            diabetic = diabetic + 1\n",
    "print(\"The daibetic lead to heart disease :\" ,diabetic)\n",
    "        "
   ]
  },
  {
   "cell_type": "markdown",
   "id": "9f7a79bd",
   "metadata": {},
   "source": [
    "### HOW MANY PEOPLES ARE DRINKING?"
   ]
  },
  {
   "cell_type": "code",
   "execution_count": 20,
   "id": "fbde6b86",
   "metadata": {},
   "outputs": [
    {
     "data": {
      "image/png": "[encoded data removed]",
      "text/plain": [
       "<Figure size 432x288 with 1 Axes>"
      ]
     },
     "metadata": {
      "needs_background": "light"
     },
     "output_type": "display_data"
    }
   ],
   "source": [
    "sns.countplot(df[\"AlcoholDrinking\"])\n",
    "plt.show()"
   ]
  },
  {
   "cell_type": "markdown",
   "id": "535e6f25",
   "metadata": {},
   "source": [
    "21777 peoples are Alcohilic drinkers and 298018 peples are not drinkers"
   ]
  },
  {
   "cell_type": "markdown",
   "id": "d7339f84",
   "metadata": {},
   "source": [
    "###  WHICH IS THE MAIN AGE CATEGORY PEOPLE IS DAIBETIC?"
   ]
  },
  {
   "cell_type": "code",
   "execution_count": 21,
   "id": "c563d8a3",
   "metadata": {},
   "outputs": [
    {
     "data": {
      "text/html": [
       "<div>\n",
       "<style scoped>\n",
       "    .dataframe tbody tr th:only-of-type {\n",
       "        vertical-align: middle;\n",
       "    }\n",
       "\n",
       "    .dataframe tbody tr th {\n",
       "        vertical-align: top;\n",
       "    }\n",
       "\n",
       "    .dataframe thead th {\n",
       "        text-align: right;\n",
       "    }\n",
       "</style>\n",
       "<table border=\"1\" class=\"dataframe\">\n",
       "  <thead>\n",
       "    <tr style=\"text-align: right;\">\n",
       "      <th>Diabetic</th>\n",
       "      <th>False</th>\n",
       "      <th>True</th>\n",
       "    </tr>\n",
       "    <tr>\n",
       "      <th>AgeCategory</th>\n",
       "      <th></th>\n",
       "      <th></th>\n",
       "    </tr>\n",
       "  </thead>\n",
       "  <tbody>\n",
       "    <tr>\n",
       "      <th>18-24</th>\n",
       "      <td>20831</td>\n",
       "      <td>233</td>\n",
       "    </tr>\n",
       "    <tr>\n",
       "      <th>25-29</th>\n",
       "      <td>16704</td>\n",
       "      <td>251</td>\n",
       "    </tr>\n",
       "    <tr>\n",
       "      <th>30-34</th>\n",
       "      <td>18279</td>\n",
       "      <td>474</td>\n",
       "    </tr>\n",
       "    <tr>\n",
       "      <th>35-39</th>\n",
       "      <td>19719</td>\n",
       "      <td>831</td>\n",
       "    </tr>\n",
       "    <tr>\n",
       "      <th>40-44</th>\n",
       "      <td>19703</td>\n",
       "      <td>1303</td>\n",
       "    </tr>\n",
       "    <tr>\n",
       "      <th>45-49</th>\n",
       "      <td>19772</td>\n",
       "      <td>2019</td>\n",
       "    </tr>\n",
       "    <tr>\n",
       "      <th>50-54</th>\n",
       "      <td>22310</td>\n",
       "      <td>3072</td>\n",
       "    </tr>\n",
       "    <tr>\n",
       "      <th>55-59</th>\n",
       "      <td>25340</td>\n",
       "      <td>4417</td>\n",
       "    </tr>\n",
       "    <tr>\n",
       "      <th>60-64</th>\n",
       "      <td>28014</td>\n",
       "      <td>5672</td>\n",
       "    </tr>\n",
       "    <tr>\n",
       "      <th>65-69</th>\n",
       "      <td>27601</td>\n",
       "      <td>6550</td>\n",
       "    </tr>\n",
       "    <tr>\n",
       "      <th>70-74</th>\n",
       "      <td>24304</td>\n",
       "      <td>6761</td>\n",
       "    </tr>\n",
       "    <tr>\n",
       "      <th>75-79</th>\n",
       "      <td>16691</td>\n",
       "      <td>4791</td>\n",
       "    </tr>\n",
       "    <tr>\n",
       "      <th>80 or older</th>\n",
       "      <td>19725</td>\n",
       "      <td>4428</td>\n",
       "    </tr>\n",
       "  </tbody>\n",
       "</table>\n",
       "</div>"
      ],
      "text/plain": [
       "Diabetic     False  True \n",
       "AgeCategory              \n",
       "18-24        20831    233\n",
       "25-29        16704    251\n",
       "30-34        18279    474\n",
       "35-39        19719    831\n",
       "40-44        19703   1303\n",
       "45-49        19772   2019\n",
       "50-54        22310   3072\n",
       "55-59        25340   4417\n",
       "60-64        28014   5672\n",
       "65-69        27601   6550\n",
       "70-74        24304   6761\n",
       "75-79        16691   4791\n",
       "80 or older  19725   4428"
      ]
     },
     "execution_count": 21,
     "metadata": {},
     "output_type": "execute_result"
    }
   ],
   "source": [
    "pd.crosstab(df[\"AgeCategory\"],df[\"Diabetic\"] == \"Yes\")"
   ]
  },
  {
   "cell_type": "markdown",
   "id": "149c41f3",
   "metadata": {},
   "source": [
    "here we can clearly see that age category of 70-74 has highest daibetic patient (6761)"
   ]
  },
  {
   "cell_type": "markdown",
   "id": "c1a5b704",
   "metadata": {},
   "source": [
    "### How much people affected by skin Cancer?"
   ]
  },
  {
   "cell_type": "code",
   "execution_count": 22,
   "id": "6e99a6d2",
   "metadata": {},
   "outputs": [
    {
     "data": {
      "image/png": "[encoded data removed]",
      "text/plain": [
       "<Figure size 576x720 with 1 Axes>"
      ]
     },
     "metadata": {},
     "output_type": "display_data"
    }
   ],
   "source": [
    "plt.figure(figsize=(8,10))\n",
    "plt.pie(df[\"SkinCancer\"].value_counts(),autopct='%.2f',labels=[\"No\",\"Yes\"])\n",
    "plt.show()"
   ]
  },
  {
   "cell_type": "code",
   "execution_count": 23,
   "id": "0e732008",
   "metadata": {},
   "outputs": [
    {
     "data": {
      "text/html": [
       "<div>\n",
       "<style scoped>\n",
       "    .dataframe tbody tr th:only-of-type {\n",
       "        vertical-align: middle;\n",
       "    }\n",
       "\n",
       "    .dataframe tbody tr th {\n",
       "        vertical-align: top;\n",
       "    }\n",
       "\n",
       "    .dataframe thead th {\n",
       "        text-align: right;\n",
       "    }\n",
       "</style>\n",
       "<table border=\"1\" class=\"dataframe\">\n",
       "  <thead>\n",
       "    <tr style=\"text-align: right;\">\n",
       "      <th></th>\n",
       "      <th>HeartDisease</th>\n",
       "      <th>BMI</th>\n",
       "      <th>Smoking</th>\n",
       "      <th>AlcoholDrinking</th>\n",
       "      <th>Stroke</th>\n",
       "      <th>PhysicalHealth</th>\n",
       "      <th>MentalHealth</th>\n",
       "      <th>DiffWalking</th>\n",
       "      <th>Sex</th>\n",
       "      <th>AgeCategory</th>\n",
       "      <th>Race</th>\n",
       "      <th>Diabetic</th>\n",
       "      <th>PhysicalActivity</th>\n",
       "      <th>GenHealth</th>\n",
       "      <th>SleepTime</th>\n",
       "      <th>Asthma</th>\n",
       "      <th>KidneyDisease</th>\n",
       "      <th>SkinCancer</th>\n",
       "    </tr>\n",
       "  </thead>\n",
       "  <tbody>\n",
       "    <tr>\n",
       "      <th>HeartDisease</th>\n",
       "      <td>1.000000</td>\n",
       "      <td>0.051803</td>\n",
       "      <td>0.107764</td>\n",
       "      <td>-0.032080</td>\n",
       "      <td>0.196835</td>\n",
       "      <td>0.170721</td>\n",
       "      <td>0.028591</td>\n",
       "      <td>0.201258</td>\n",
       "      <td>0.070040</td>\n",
       "      <td>0.233432</td>\n",
       "      <td>0.034854</td>\n",
       "      <td>0.168553</td>\n",
       "      <td>-0.100030</td>\n",
       "      <td>-0.011062</td>\n",
       "      <td>0.008327</td>\n",
       "      <td>0.041444</td>\n",
       "      <td>0.145197</td>\n",
       "      <td>0.093317</td>\n",
       "    </tr>\n",
       "    <tr>\n",
       "      <th>BMI</th>\n",
       "      <td>0.051803</td>\n",
       "      <td>1.000000</td>\n",
       "      <td>0.023118</td>\n",
       "      <td>-0.038816</td>\n",
       "      <td>0.019733</td>\n",
       "      <td>0.109788</td>\n",
       "      <td>0.064131</td>\n",
       "      <td>0.181678</td>\n",
       "      <td>0.026940</td>\n",
       "      <td>-0.004744</td>\n",
       "      <td>-0.037424</td>\n",
       "      <td>0.202472</td>\n",
       "      <td>-0.150616</td>\n",
       "      <td>0.035932</td>\n",
       "      <td>-0.051822</td>\n",
       "      <td>0.092345</td>\n",
       "      <td>0.050768</td>\n",
       "      <td>-0.033644</td>\n",
       "    </tr>\n",
       "    <tr>\n",
       "      <th>Smoking</th>\n",
       "      <td>0.107764</td>\n",
       "      <td>0.023118</td>\n",
       "      <td>1.000000</td>\n",
       "      <td>0.111768</td>\n",
       "      <td>0.061226</td>\n",
       "      <td>0.115352</td>\n",
       "      <td>0.085157</td>\n",
       "      <td>0.120074</td>\n",
       "      <td>0.085052</td>\n",
       "      <td>0.128331</td>\n",
       "      <td>0.065499</td>\n",
       "      <td>0.053847</td>\n",
       "      <td>-0.097174</td>\n",
       "      <td>0.020625</td>\n",
       "      <td>-0.030336</td>\n",
       "      <td>0.024149</td>\n",
       "      <td>0.034920</td>\n",
       "      <td>0.033977</td>\n",
       "    </tr>\n",
       "    <tr>\n",
       "      <th>AlcoholDrinking</th>\n",
       "      <td>-0.032080</td>\n",
       "      <td>-0.038816</td>\n",
       "      <td>0.111768</td>\n",
       "      <td>1.000000</td>\n",
       "      <td>-0.019858</td>\n",
       "      <td>-0.017254</td>\n",
       "      <td>0.051282</td>\n",
       "      <td>-0.035328</td>\n",
       "      <td>0.004200</td>\n",
       "      <td>-0.059528</td>\n",
       "      <td>0.036702</td>\n",
       "      <td>-0.057372</td>\n",
       "      <td>0.017487</td>\n",
       "      <td>0.001629</td>\n",
       "      <td>-0.005065</td>\n",
       "      <td>-0.002202</td>\n",
       "      <td>-0.028280</td>\n",
       "      <td>-0.005702</td>\n",
       "    </tr>\n",
       "    <tr>\n",
       "      <th>Stroke</th>\n",
       "      <td>0.196835</td>\n",
       "      <td>0.019733</td>\n",
       "      <td>0.061226</td>\n",
       "      <td>-0.019858</td>\n",
       "      <td>1.000000</td>\n",
       "      <td>0.137014</td>\n",
       "      <td>0.046467</td>\n",
       "      <td>0.174143</td>\n",
       "      <td>-0.003091</td>\n",
       "      <td>0.137822</td>\n",
       "      <td>-0.003956</td>\n",
       "      <td>0.101518</td>\n",
       "      <td>-0.079455</td>\n",
       "      <td>-0.009335</td>\n",
       "      <td>0.011900</td>\n",
       "      <td>0.038866</td>\n",
       "      <td>0.091167</td>\n",
       "      <td>0.048116</td>\n",
       "    </tr>\n",
       "    <tr>\n",
       "      <th>PhysicalHealth</th>\n",
       "      <td>0.170721</td>\n",
       "      <td>0.109788</td>\n",
       "      <td>0.115352</td>\n",
       "      <td>-0.017254</td>\n",
       "      <td>0.137014</td>\n",
       "      <td>1.000000</td>\n",
       "      <td>0.287987</td>\n",
       "      <td>0.428373</td>\n",
       "      <td>-0.040904</td>\n",
       "      <td>0.110763</td>\n",
       "      <td>-0.000847</td>\n",
       "      <td>0.151361</td>\n",
       "      <td>-0.232283</td>\n",
       "      <td>-0.035703</td>\n",
       "      <td>-0.061387</td>\n",
       "      <td>0.117907</td>\n",
       "      <td>0.142197</td>\n",
       "      <td>0.041700</td>\n",
       "    </tr>\n",
       "    <tr>\n",
       "      <th>MentalHealth</th>\n",
       "      <td>0.028591</td>\n",
       "      <td>0.064131</td>\n",
       "      <td>0.085157</td>\n",
       "      <td>0.051282</td>\n",
       "      <td>0.046467</td>\n",
       "      <td>0.287987</td>\n",
       "      <td>1.000000</td>\n",
       "      <td>0.152235</td>\n",
       "      <td>-0.100058</td>\n",
       "      <td>-0.155506</td>\n",
       "      <td>-0.014491</td>\n",
       "      <td>0.032945</td>\n",
       "      <td>-0.095808</td>\n",
       "      <td>-0.004412</td>\n",
       "      <td>-0.119717</td>\n",
       "      <td>0.114008</td>\n",
       "      <td>0.037281</td>\n",
       "      <td>-0.033412</td>\n",
       "    </tr>\n",
       "    <tr>\n",
       "      <th>DiffWalking</th>\n",
       "      <td>0.201258</td>\n",
       "      <td>0.181678</td>\n",
       "      <td>0.120074</td>\n",
       "      <td>-0.035328</td>\n",
       "      <td>0.174143</td>\n",
       "      <td>0.428373</td>\n",
       "      <td>0.152235</td>\n",
       "      <td>1.000000</td>\n",
       "      <td>-0.068860</td>\n",
       "      <td>0.243263</td>\n",
       "      <td>-0.015831</td>\n",
       "      <td>0.205502</td>\n",
       "      <td>-0.278524</td>\n",
       "      <td>-0.043552</td>\n",
       "      <td>-0.022216</td>\n",
       "      <td>0.103222</td>\n",
       "      <td>0.153064</td>\n",
       "      <td>0.064840</td>\n",
       "    </tr>\n",
       "    <tr>\n",
       "      <th>Sex</th>\n",
       "      <td>0.070040</td>\n",
       "      <td>0.026940</td>\n",
       "      <td>0.085052</td>\n",
       "      <td>0.004200</td>\n",
       "      <td>-0.003091</td>\n",
       "      <td>-0.040904</td>\n",
       "      <td>-0.100058</td>\n",
       "      <td>-0.068860</td>\n",
       "      <td>1.000000</td>\n",
       "      <td>-0.067478</td>\n",
       "      <td>0.018855</td>\n",
       "      <td>-0.013456</td>\n",
       "      <td>0.048247</td>\n",
       "      <td>-0.010283</td>\n",
       "      <td>-0.015704</td>\n",
       "      <td>-0.069191</td>\n",
       "      <td>-0.009084</td>\n",
       "      <td>0.013434</td>\n",
       "    </tr>\n",
       "    <tr>\n",
       "      <th>AgeCategory</th>\n",
       "      <td>0.233432</td>\n",
       "      <td>-0.004744</td>\n",
       "      <td>0.128331</td>\n",
       "      <td>-0.059528</td>\n",
       "      <td>0.137822</td>\n",
       "      <td>0.110763</td>\n",
       "      <td>-0.155506</td>\n",
       "      <td>0.243263</td>\n",
       "      <td>-0.067478</td>\n",
       "      <td>1.000000</td>\n",
       "      <td>0.163090</td>\n",
       "      <td>0.193745</td>\n",
       "      <td>-0.121687</td>\n",
       "      <td>0.044427</td>\n",
       "      <td>0.104953</td>\n",
       "      <td>-0.058108</td>\n",
       "      <td>0.123190</td>\n",
       "      <td>0.263537</td>\n",
       "    </tr>\n",
       "    <tr>\n",
       "      <th>Race</th>\n",
       "      <td>0.034854</td>\n",
       "      <td>-0.037424</td>\n",
       "      <td>0.065499</td>\n",
       "      <td>0.036702</td>\n",
       "      <td>-0.003956</td>\n",
       "      <td>-0.000847</td>\n",
       "      <td>-0.014491</td>\n",
       "      <td>-0.015831</td>\n",
       "      <td>0.018855</td>\n",
       "      <td>0.163090</td>\n",
       "      <td>1.000000</td>\n",
       "      <td>-0.052216</td>\n",
       "      <td>0.056767</td>\n",
       "      <td>0.050344</td>\n",
       "      <td>0.035889</td>\n",
       "      <td>-0.017975</td>\n",
       "      <td>0.003709</td>\n",
       "      <td>0.134780</td>\n",
       "    </tr>\n",
       "    <tr>\n",
       "      <th>Diabetic</th>\n",
       "      <td>0.168553</td>\n",
       "      <td>0.202472</td>\n",
       "      <td>0.053847</td>\n",
       "      <td>-0.057372</td>\n",
       "      <td>0.101518</td>\n",
       "      <td>0.151361</td>\n",
       "      <td>0.032945</td>\n",
       "      <td>0.205502</td>\n",
       "      <td>-0.013456</td>\n",
       "      <td>0.193745</td>\n",
       "      <td>-0.052216</td>\n",
       "      <td>1.000000</td>\n",
       "      <td>-0.133824</td>\n",
       "      <td>-0.010854</td>\n",
       "      <td>0.000449</td>\n",
       "      <td>0.049827</td>\n",
       "      <td>0.142917</td>\n",
       "      <td>0.032523</td>\n",
       "    </tr>\n",
       "    <tr>\n",
       "      <th>PhysicalActivity</th>\n",
       "      <td>-0.100030</td>\n",
       "      <td>-0.150616</td>\n",
       "      <td>-0.097174</td>\n",
       "      <td>0.017487</td>\n",
       "      <td>-0.079455</td>\n",
       "      <td>-0.232283</td>\n",
       "      <td>-0.095808</td>\n",
       "      <td>-0.278524</td>\n",
       "      <td>0.048247</td>\n",
       "      <td>-0.121687</td>\n",
       "      <td>0.056767</td>\n",
       "      <td>-0.133824</td>\n",
       "      <td>1.000000</td>\n",
       "      <td>0.024418</td>\n",
       "      <td>0.003849</td>\n",
       "      <td>-0.041526</td>\n",
       "      <td>-0.081827</td>\n",
       "      <td>-0.001328</td>\n",
       "    </tr>\n",
       "    <tr>\n",
       "      <th>GenHealth</th>\n",
       "      <td>-0.011062</td>\n",
       "      <td>0.035932</td>\n",
       "      <td>0.020625</td>\n",
       "      <td>0.001629</td>\n",
       "      <td>-0.009335</td>\n",
       "      <td>-0.035703</td>\n",
       "      <td>-0.004412</td>\n",
       "      <td>-0.043552</td>\n",
       "      <td>-0.010283</td>\n",
       "      <td>0.044427</td>\n",
       "      <td>0.050344</td>\n",
       "      <td>-0.010854</td>\n",
       "      <td>0.024418</td>\n",
       "      <td>1.000000</td>\n",
       "      <td>-0.004163</td>\n",
       "      <td>0.007280</td>\n",
       "      <td>-0.010580</td>\n",
       "      <td>0.018982</td>\n",
       "    </tr>\n",
       "    <tr>\n",
       "      <th>SleepTime</th>\n",
       "      <td>0.008327</td>\n",
       "      <td>-0.051822</td>\n",
       "      <td>-0.030336</td>\n",
       "      <td>-0.005065</td>\n",
       "      <td>0.011900</td>\n",
       "      <td>-0.061387</td>\n",
       "      <td>-0.119717</td>\n",
       "      <td>-0.022216</td>\n",
       "      <td>-0.015704</td>\n",
       "      <td>0.104953</td>\n",
       "      <td>0.035889</td>\n",
       "      <td>0.000449</td>\n",
       "      <td>0.003849</td>\n",
       "      <td>-0.004163</td>\n",
       "      <td>1.000000</td>\n",
       "      <td>-0.048245</td>\n",
       "      <td>0.006238</td>\n",
       "      <td>0.041266</td>\n",
       "    </tr>\n",
       "    <tr>\n",
       "      <th>Asthma</th>\n",
       "      <td>0.041444</td>\n",
       "      <td>0.092345</td>\n",
       "      <td>0.024149</td>\n",
       "      <td>-0.002202</td>\n",
       "      <td>0.038866</td>\n",
       "      <td>0.117907</td>\n",
       "      <td>0.114008</td>\n",
       "      <td>0.103222</td>\n",
       "      <td>-0.069191</td>\n",
       "      <td>-0.058108</td>\n",
       "      <td>-0.017975</td>\n",
       "      <td>0.049827</td>\n",
       "      <td>-0.041526</td>\n",
       "      <td>0.007280</td>\n",
       "      <td>-0.048245</td>\n",
       "      <td>1.000000</td>\n",
       "      <td>0.039707</td>\n",
       "      <td>-0.000396</td>\n",
       "    </tr>\n",
       "    <tr>\n",
       "      <th>KidneyDisease</th>\n",
       "      <td>0.145197</td>\n",
       "      <td>0.050768</td>\n",
       "      <td>0.034920</td>\n",
       "      <td>-0.028280</td>\n",
       "      <td>0.091167</td>\n",
       "      <td>0.142197</td>\n",
       "      <td>0.037281</td>\n",
       "      <td>0.153064</td>\n",
       "      <td>-0.009084</td>\n",
       "      <td>0.123190</td>\n",
       "      <td>0.003709</td>\n",
       "      <td>0.142917</td>\n",
       "      <td>-0.081827</td>\n",
       "      <td>-0.010580</td>\n",
       "      <td>0.006238</td>\n",
       "      <td>0.039707</td>\n",
       "      <td>1.000000</td>\n",
       "      <td>0.061816</td>\n",
       "    </tr>\n",
       "    <tr>\n",
       "      <th>SkinCancer</th>\n",
       "      <td>0.093317</td>\n",
       "      <td>-0.033644</td>\n",
       "      <td>0.033977</td>\n",
       "      <td>-0.005702</td>\n",
       "      <td>0.048116</td>\n",
       "      <td>0.041700</td>\n",
       "      <td>-0.033412</td>\n",
       "      <td>0.064840</td>\n",
       "      <td>0.013434</td>\n",
       "      <td>0.263537</td>\n",
       "      <td>0.134780</td>\n",
       "      <td>0.032523</td>\n",
       "      <td>-0.001328</td>\n",
       "      <td>0.018982</td>\n",
       "      <td>0.041266</td>\n",
       "      <td>-0.000396</td>\n",
       "      <td>0.061816</td>\n",
       "      <td>1.000000</td>\n",
       "    </tr>\n",
       "  </tbody>\n",
       "</table>\n",
       "</div>"
      ],
      "text/plain": [
       "                  HeartDisease       BMI   Smoking  AlcoholDrinking    Stroke  \\\n",
       "HeartDisease          1.000000  0.051803  0.107764        -0.032080  0.196835   \n",
       "BMI                   0.051803  1.000000  0.023118        -0.038816  0.019733   \n",
       "Smoking               0.107764  0.023118  1.000000         0.111768  0.061226   \n",
       "AlcoholDrinking      -0.032080 -0.038816  0.111768         1.000000 -0.019858   \n",
       "Stroke                0.196835  0.019733  0.061226        -0.019858  1.000000   \n",
       "PhysicalHealth        0.170721  0.109788  0.115352        -0.017254  0.137014   \n",
       "MentalHealth          0.028591  0.064131  0.085157         0.051282  0.046467   \n",
       "DiffWalking           0.201258  0.181678  0.120074        -0.035328  0.174143   \n",
       "Sex                   0.070040  0.026940  0.085052         0.004200 -0.003091   \n",
       "AgeCategory           0.233432 -0.004744  0.128331        -0.059528  0.137822   \n",
       "Race                  0.034854 -0.037424  0.065499         0.036702 -0.003956   \n",
       "Diabetic              0.168553  0.202472  0.053847        -0.057372  0.101518   \n",
       "PhysicalActivity     -0.100030 -0.150616 -0.097174         0.017487 -0.079455   \n",
       "GenHealth            -0.011062  0.035932  0.020625         0.001629 -0.009335   \n",
       "SleepTime             0.008327 -0.051822 -0.030336        -0.005065  0.011900   \n",
       "Asthma                0.041444  0.092345  0.024149        -0.002202  0.038866   \n",
       "KidneyDisease         0.145197  0.050768  0.034920        -0.028280  0.091167   \n",
       "SkinCancer            0.093317 -0.033644  0.033977        -0.005702  0.048116   \n",
       "\n",
       "                  PhysicalHealth  MentalHealth  DiffWalking       Sex  \\\n",
       "HeartDisease            0.170721      0.028591     0.201258  0.070040   \n",
       "BMI                     0.109788      0.064131     0.181678  0.026940   \n",
       "Smoking                 0.115352      0.085157     0.120074  0.085052   \n",
       "AlcoholDrinking        -0.017254      0.051282    -0.035328  0.004200   \n",
       "Stroke                  0.137014      0.046467     0.174143 -0.003091   \n",
       "PhysicalHealth          1.000000      0.287987     0.428373 -0.040904   \n",
       "MentalHealth            0.287987      1.000000     0.152235 -0.100058   \n",
       "DiffWalking             0.428373      0.152235     1.000000 -0.068860   \n",
       "Sex                    -0.040904     -0.100058    -0.068860  1.000000   \n",
       "AgeCategory             0.110763     -0.155506     0.243263 -0.067478   \n",
       "Race                   -0.000847     -0.014491    -0.015831  0.018855   \n",
       "Diabetic                0.151361      0.032945     0.205502 -0.013456   \n",
       "PhysicalActivity       -0.232283     -0.095808    -0.278524  0.048247   \n",
       "GenHealth              -0.035703     -0.004412    -0.043552 -0.010283   \n",
       "SleepTime              -0.061387     -0.119717    -0.022216 -0.015704   \n",
       "Asthma                  0.117907      0.114008     0.103222 -0.069191   \n",
       "KidneyDisease           0.142197      0.037281     0.153064 -0.009084   \n",
       "SkinCancer              0.041700     -0.033412     0.064840  0.013434   \n",
       "\n",
       "                  AgeCategory      Race  Diabetic  PhysicalActivity  \\\n",
       "HeartDisease         0.233432  0.034854  0.168553         -0.100030   \n",
       "BMI                 -0.004744 -0.037424  0.202472         -0.150616   \n",
       "Smoking              0.128331  0.065499  0.053847         -0.097174   \n",
       "AlcoholDrinking     -0.059528  0.036702 -0.057372          0.017487   \n",
       "Stroke               0.137822 -0.003956  0.101518         -0.079455   \n",
       "PhysicalHealth       0.110763 -0.000847  0.151361         -0.232283   \n",
       "MentalHealth        -0.155506 -0.014491  0.032945         -0.095808   \n",
       "DiffWalking          0.243263 -0.015831  0.205502         -0.278524   \n",
       "Sex                 -0.067478  0.018855 -0.013456          0.048247   \n",
       "AgeCategory          1.000000  0.163090  0.193745         -0.121687   \n",
       "Race                 0.163090  1.000000 -0.052216          0.056767   \n",
       "Diabetic             0.193745 -0.052216  1.000000         -0.133824   \n",
       "PhysicalActivity    -0.121687  0.056767 -0.133824          1.000000   \n",
       "GenHealth            0.044427  0.050344 -0.010854          0.024418   \n",
       "SleepTime            0.104953  0.035889  0.000449          0.003849   \n",
       "Asthma              -0.058108 -0.017975  0.049827         -0.041526   \n",
       "KidneyDisease        0.123190  0.003709  0.142917         -0.081827   \n",
       "SkinCancer           0.263537  0.134780  0.032523         -0.001328   \n",
       "\n",
       "                  GenHealth  SleepTime    Asthma  KidneyDisease  SkinCancer  \n",
       "HeartDisease      -0.011062   0.008327  0.041444       0.145197    0.093317  \n",
       "BMI                0.035932  -0.051822  0.092345       0.050768   -0.033644  \n",
       "Smoking            0.020625  -0.030336  0.024149       0.034920    0.033977  \n",
       "AlcoholDrinking    0.001629  -0.005065 -0.002202      -0.028280   -0.005702  \n",
       "Stroke            -0.009335   0.011900  0.038866       0.091167    0.048116  \n",
       "PhysicalHealth    -0.035703  -0.061387  0.117907       0.142197    0.041700  \n",
       "MentalHealth      -0.004412  -0.119717  0.114008       0.037281   -0.033412  \n",
       "DiffWalking       -0.043552  -0.022216  0.103222       0.153064    0.064840  \n",
       "Sex               -0.010283  -0.015704 -0.069191      -0.009084    0.013434  \n",
       "AgeCategory        0.044427   0.104953 -0.058108       0.123190    0.263537  \n",
       "Race               0.050344   0.035889 -0.017975       0.003709    0.134780  \n",
       "Diabetic          -0.010854   0.000449  0.049827       0.142917    0.032523  \n",
       "PhysicalActivity   0.024418   0.003849 -0.041526      -0.081827   -0.001328  \n",
       "GenHealth          1.000000  -0.004163  0.007280      -0.010580    0.018982  \n",
       "SleepTime         -0.004163   1.000000 -0.048245       0.006238    0.041266  \n",
       "Asthma             0.007280  -0.048245  1.000000       0.039707   -0.000396  \n",
       "KidneyDisease     -0.010580   0.006238  0.039707       1.000000    0.061816  \n",
       "SkinCancer         0.018982   0.041266 -0.000396       0.061816    1.000000  "
      ]
     },
     "execution_count": 23,
     "metadata": {},
     "output_type": "execute_result"
    }
   ],
   "source": [
    "cr = df1.corr()\n",
    "cr"
   ]
  },
  {
   "cell_type": "code",
   "execution_count": 24,
   "id": "56bdf7af",
   "metadata": {},
   "outputs": [
    {
     "data": {
      "text/plain": [
       "<AxesSubplot:>"
      ]
     },
     "execution_count": 24,
     "metadata": {},
     "output_type": "execute_result"
    },
    {
     "data": {
      "image/png": "[encoded data removed]",
      "text/plain": [
       "<Figure size 1008x504 with 2 Axes>"
      ]
     },
     "metadata": {
      "needs_background": "light"
     },
     "output_type": "display_data"
    }
   ],
   "source": [
    "plt.figure(figsize=(14,7))\n",
    "sns.heatmap(cr,annot=True)"
   ]
  },
  {
   "cell_type": "markdown",
   "id": "654fd19c",
   "metadata": {},
   "source": [
    "### Out of 17 features which of the featutres are highly correlated towards the heart disease?"
   ]
  },
  {
   "cell_type": "code",
   "execution_count": 25,
   "id": "57fcae8d",
   "metadata": {},
   "outputs": [
    {
     "data": {
      "image/png": "[encoded data removed]",
      "text/plain": [
       "<Figure size 936x432 with 1 Axes>"
      ]
     },
     "metadata": {},
     "output_type": "display_data"
    }
   ],
   "source": [
    "sns.set_style('white')\n",
    "sns.set_palette('YlOrBr')\n",
    "plt.figure(figsize = (13,6))\n",
    "plt.title('Distribution of correlation of features')\n",
    "abs(cr['HeartDisease']).sort_values()[:-1].plot.barh()\n",
    "plt.show()"
   ]
  },
  {
   "cell_type": "code",
   "execution_count": 26,
   "id": "22232a4a",
   "metadata": {},
   "outputs": [
    {
     "data": {
      "text/plain": [
       "Text(0.5, 1.0, 'Distribution of Body Mass Index')"
      ]
     },
     "execution_count": 26,
     "metadata": {},
     "output_type": "execute_result"
    },
    {
     "data": {
      "image/png": "[encoded data removed]",
      "text/plain": [
       "<Figure size 864x576 with 1 Axes>"
      ]
     },
     "metadata": {},
     "output_type": "display_data"
    }
   ],
   "source": [
    "plt.figure(figsize=(12,8))\n",
    "sns.distplot(df1[\"BMI\"],color='red')\n",
    "plt.title('Distribution of Body Mass Index', fontsize = 18)"
   ]
  },
  {
   "cell_type": "code",
   "execution_count": 27,
   "id": "7cf261be",
   "metadata": {},
   "outputs": [
    {
     "data": {
      "text/plain": [
       "Text(0.5, 1.0, 'Distribution of Physical Health')"
      ]
     },
     "execution_count": 27,
     "metadata": {},
     "output_type": "execute_result"
    },
    {
     "data": {
      "image/png": "[encoded data removed]",
      "text/plain": [
       "<Figure size 864x576 with 1 Axes>"
      ]
     },
     "metadata": {},
     "output_type": "display_data"
    }
   ],
   "source": [
    "plt.figure(figsize=(12,8))\n",
    "sns.distplot(df1[\"PhysicalHealth\"],color='Green')\n",
    "plt.title('Distribution of Physical Health', fontsize = 18)"
   ]
  },
  {
   "cell_type": "code",
   "execution_count": 28,
   "id": "95b6c7cc",
   "metadata": {
    "scrolled": true
   },
   "outputs": [
    {
     "data": {
      "text/plain": [
       "Text(0.5, 1.0, 'Distribution of Sleep Time')"
      ]
     },
     "execution_count": 28,
     "metadata": {},
     "output_type": "execute_result"
    },
    {
     "data": {
      "image/png": "[encoded data removed]",
      "text/plain": [
       "<Figure size 864x576 with 1 Axes>"
      ]
     },
     "metadata": {},
     "output_type": "display_data"
    }
   ],
   "source": [
    "plt.figure(figsize=(12,8))\n",
    "sns.distplot(df1[\"SleepTime\"],color=\"black\")\n",
    "plt.title('Distribution of Sleep Time', fontsize = 18)"
   ]
  },
  {
   "cell_type": "markdown",
   "id": "d598485c",
   "metadata": {},
   "source": [
    "# SPLITTING THE DATA TO TRAINING AND TESTING"
   ]
  },
  {
   "cell_type": "code",
   "execution_count": 25,
   "id": "f176090e",
   "metadata": {},
   "outputs": [],
   "source": [
    "x = df1.drop(\"HeartDisease\",axis=1)\n",
    "y = df1[\"HeartDisease\"]"
   ]
  },
  {
   "cell_type": "code",
   "execution_count": 26,
   "id": "a1cfcbd4",
   "metadata": {},
   "outputs": [],
   "source": [
    "from sklearn.model_selection import train_test_split"
   ]
  },
  {
   "cell_type": "code",
   "execution_count": 27,
   "id": "43cd7476",
   "metadata": {},
   "outputs": [],
   "source": [
    "X_train, X_test, y_train, y_test = train_test_split(x,y,test_size=0.2,random_state=12)"
   ]
  },
  {
   "cell_type": "code",
   "execution_count": 28,
   "id": "4514954d",
   "metadata": {},
   "outputs": [],
   "source": [
    "from sklearn.linear_model import LogisticRegression\n",
    "from sklearn.neighbors import KNeighborsClassifier\n",
    "from sklearn.tree import DecisionTreeClassifier\n",
    "from sklearn.ensemble import RandomForestClassifier\n",
    "from sklearn.metrics import classification_report,accuracy_score"
   ]
  },
  {
   "cell_type": "code",
   "execution_count": 29,
   "id": "6fb68d60",
   "metadata": {},
   "outputs": [],
   "source": [
    "model_logistic = LogisticRegression()\n",
    "model_random = RandomForestClassifier()"
   ]
  },
  {
   "cell_type": "code",
   "execution_count": 30,
   "id": "36d64e9e",
   "metadata": {},
   "outputs": [],
   "source": [
    "model_dt = DecisionTreeClassifier()\n",
    "model_knn = KNeighborsClassifier()"
   ]
  },
  {
   "cell_type": "code",
   "execution_count": 31,
   "id": "08065e1b",
   "metadata": {},
   "outputs": [
    {
     "name": "stdout",
     "output_type": "stream",
     "text": [
      "DecisionTreeClassifier() accuracy score is :  0.8636626588908519\n",
      "              precision    recall  f1-score   support\n",
      "\n",
      "           0       0.92      0.93      0.93     57979\n",
      "           1       0.25      0.23      0.24      5980\n",
      "\n",
      "    accuracy                           0.86     63959\n",
      "   macro avg       0.59      0.58      0.58     63959\n",
      "weighted avg       0.86      0.86      0.86     63959\n",
      "\n",
      "--------------------------------------------------------------\n",
      "---------------------------------------------------------------\n",
      "KNeighborsClassifier() accuracy score is :  0.907128003877484\n",
      "              precision    recall  f1-score   support\n",
      "\n",
      "           0       0.98      0.92      0.95     62619\n",
      "           1       0.08      0.32      0.13      1340\n",
      "\n",
      "    accuracy                           0.91     63959\n",
      "   macro avg       0.53      0.62      0.54     63959\n",
      "weighted avg       0.97      0.91      0.93     63959\n",
      "\n",
      "--------------------------------------------------------------\n",
      "---------------------------------------------------------------\n",
      "LogisticRegression() accuracy score is :  0.9149298769524227\n",
      "              precision    recall  f1-score   support\n",
      "\n",
      "           0       0.99      0.92      0.96     63052\n",
      "           1       0.08      0.51      0.15       907\n",
      "\n",
      "    accuracy                           0.91     63959\n",
      "   macro avg       0.54      0.72      0.55     63959\n",
      "weighted avg       0.98      0.91      0.94     63959\n",
      "\n",
      "--------------------------------------------------------------\n",
      "---------------------------------------------------------------\n",
      "RandomForestClassifier() accuracy score is :  0.9063306180521897\n",
      "              precision    recall  f1-score   support\n",
      "\n",
      "           0       0.98      0.92      0.95     62158\n",
      "           1       0.12      0.35      0.18      1801\n",
      "\n",
      "    accuracy                           0.91     63959\n",
      "   macro avg       0.55      0.64      0.56     63959\n",
      "weighted avg       0.96      0.91      0.93     63959\n",
      "\n",
      "--------------------------------------------------------------\n",
      "---------------------------------------------------------------\n"
     ]
    }
   ],
   "source": [
    "models = [model_dt,model_knn,model_logistic,model_random]\n",
    "x = {}\n",
    "for i in models:\n",
    "    i.fit(X_train,y_train)\n",
    "    ypred = i.predict(X_test)\n",
    "    print(i,\"accuracy score is : \",accuracy_score(ypred,y_test))\n",
    "    print(classification_report(ypred,y_test))\n",
    "    print(\"--------------------------------------------------------------\")\n",
    "    print(\"---------------------------------------------------------------\")\n",
    "    "
   ]
  },
  {
   "cell_type": "markdown",
   "id": "816d8a26",
   "metadata": {},
   "source": [
    "### Logistic regression has got the highest accuracy but precision , recall  and f1-score   clearly shows that model is biased towards the class 0 (heart disease = NO)"
   ]
  },
  {
   "cell_type": "markdown",
   "id": "74bd9e77",
   "metadata": {},
   "source": [
    "# CHECKING IMBALANCE OF DATA"
   ]
  },
  {
   "cell_type": "code",
   "execution_count": 36,
   "id": "9de01553",
   "metadata": {},
   "outputs": [
    {
     "data": {
      "image/png": "[encoded data removed]",
      "text/plain": [
       "<Figure size 576x360 with 1 Axes>"
      ]
     },
     "metadata": {},
     "output_type": "display_data"
    }
   ],
   "source": [
    "plt.figure(figsize=(8,5))\n",
    "sns.countplot(df[\"HeartDisease\"])\n",
    "plt.show()"
   ]
  },
  {
   "cell_type": "markdown",
   "id": "f62ec6b9",
   "metadata": {},
   "source": [
    "Data is highly imbalanced."
   ]
  },
  {
   "cell_type": "code",
   "execution_count": 37,
   "id": "2b032d90",
   "metadata": {},
   "outputs": [],
   "source": [
    "#!pip install imbalanced-learn"
   ]
  },
  {
   "cell_type": "code",
   "execution_count": 38,
   "id": "a361b520",
   "metadata": {},
   "outputs": [],
   "source": [
    "from imblearn.over_sampling import SMOTE"
   ]
  },
  {
   "cell_type": "code",
   "execution_count": 39,
   "id": "2c6d572d",
   "metadata": {},
   "outputs": [],
   "source": [
    "smote = SMOTE(sampling_strategy='minority')"
   ]
  },
  {
   "cell_type": "code",
   "execution_count": 42,
   "id": "ef77d66e",
   "metadata": {},
   "outputs": [],
   "source": [
    "x_sm,y_sm = smote.fit_resample(x,y)"
   ]
  },
  {
   "cell_type": "code",
   "execution_count": null,
   "id": "d4a4adcf",
   "metadata": {},
   "outputs": [],
   "source": [
    "y_sm.value_counts()"
   ]
  },
  {
   "cell_type": "code",
   "execution_count": 43,
   "id": "02d187fd",
   "metadata": {},
   "outputs": [],
   "source": [
    "X_train, X_test, y_train, y_test = train_test_split(x_sm,y_sm,test_size=0.2,random_state=12,stratify=y_sm)"
   ]
  },
  {
   "cell_type": "code",
   "execution_count": 44,
   "id": "b6967325",
   "metadata": {},
   "outputs": [
    {
     "data": {
      "text/plain": [
       "0    233938\n",
       "1    233937\n",
       "Name: HeartDisease, dtype: int64"
      ]
     },
     "execution_count": 44,
     "metadata": {},
     "output_type": "execute_result"
    }
   ],
   "source": [
    "y_train.value_counts()"
   ]
  },
  {
   "cell_type": "code",
   "execution_count": 45,
   "id": "fed991f4",
   "metadata": {},
   "outputs": [
    {
     "name": "stdout",
     "output_type": "stream",
     "text": [
      "DecisionTreeClassifier() accuracy score is :  0.8728808487718969\n",
      "              precision    recall  f1-score   support\n",
      "\n",
      "           0       0.86      0.88      0.87     56785\n",
      "           1       0.89      0.86      0.87     60184\n",
      "\n",
      "    accuracy                           0.87    116969\n",
      "   macro avg       0.87      0.87      0.87    116969\n",
      "weighted avg       0.87      0.87      0.87    116969\n",
      "\n",
      "--------------------------------------------------------------\n",
      "---------------------------------------------------------------\n",
      "KNeighborsClassifier() accuracy score is :  0.8533714060990519\n",
      "              precision    recall  f1-score   support\n",
      "\n",
      "           0       0.75      0.95      0.84     46089\n",
      "           1       0.96      0.79      0.87     70880\n",
      "\n",
      "    accuracy                           0.85    116969\n",
      "   macro avg       0.85      0.87      0.85    116969\n",
      "weighted avg       0.88      0.85      0.86    116969\n",
      "\n",
      "--------------------------------------------------------------\n",
      "---------------------------------------------------------------\n",
      "LogisticRegression() accuracy score is :  0.735434174866845\n",
      "              precision    recall  f1-score   support\n",
      "\n",
      "           0       0.70      0.75      0.73     54612\n",
      "           1       0.77      0.72      0.74     62357\n",
      "\n",
      "    accuracy                           0.74    116969\n",
      "   macro avg       0.74      0.74      0.74    116969\n",
      "weighted avg       0.74      0.74      0.74    116969\n",
      "\n",
      "--------------------------------------------------------------\n",
      "---------------------------------------------------------------\n",
      "RandomForestClassifier() accuracy score is :  0.9065222409356325\n",
      "              precision    recall  f1-score   support\n",
      "\n",
      "           0       0.89      0.92      0.90     56512\n",
      "           1       0.92      0.89      0.91     60457\n",
      "\n",
      "    accuracy                           0.91    116969\n",
      "   macro avg       0.91      0.91      0.91    116969\n",
      "weighted avg       0.91      0.91      0.91    116969\n",
      "\n",
      "--------------------------------------------------------------\n",
      "---------------------------------------------------------------\n"
     ]
    }
   ],
   "source": [
    "models = [model_dt,model_knn,model_logistic,model_random]\n",
    "x = {}\n",
    "for i in models:\n",
    "    i.fit(X_train,y_train)\n",
    "    ypred = i.predict(X_test)\n",
    "    print(i,\"accuracy score is : \",accuracy_score(ypred,y_test))\n",
    "    print(classification_report(ypred,y_test))\n",
    "    print(\"--------------------------------------------------------------\")\n",
    "    print(\"---------------------------------------------------------------\")\n",
    "    "
   ]
  },
  {
   "cell_type": "markdown",
   "id": "5e31141e",
   "metadata": {},
   "source": [
    "# OVER SAMPLING"
   ]
  },
  {
   "cell_type": "code",
   "execution_count": 32,
   "id": "4d54a4e1",
   "metadata": {},
   "outputs": [],
   "source": [
    "df_cls_1 = df1[df1[\"HeartDisease\"]==1]\n",
    "df_cls_0 = df1[df1[\"HeartDisease\"]==0]"
   ]
  },
  {
   "cell_type": "code",
   "execution_count": 33,
   "id": "90a1e8ee",
   "metadata": {},
   "outputs": [],
   "source": [
    "df_cls_1_ovr = df_cls_1.sample(292422,replace=True)"
   ]
  },
  {
   "cell_type": "code",
   "execution_count": 34,
   "id": "a554f02a",
   "metadata": {},
   "outputs": [
    {
     "data": {
      "text/plain": [
       "(292422, 18)"
      ]
     },
     "execution_count": 34,
     "metadata": {},
     "output_type": "execute_result"
    }
   ],
   "source": [
    "df_cls_0.shape"
   ]
  },
  {
   "cell_type": "code",
   "execution_count": 35,
   "id": "f799ffb9",
   "metadata": {},
   "outputs": [
    {
     "data": {
      "text/plain": [
       "(292422, 18)"
      ]
     },
     "execution_count": 35,
     "metadata": {},
     "output_type": "execute_result"
    }
   ],
   "source": [
    "df_cls_1_ovr.shape"
   ]
  },
  {
   "cell_type": "code",
   "execution_count": 36,
   "id": "876225e5",
   "metadata": {},
   "outputs": [],
   "source": [
    "df_test = pd.concat([df_cls_0,df_cls_1_ovr],axis=0)"
   ]
  },
  {
   "cell_type": "code",
   "execution_count": 37,
   "id": "e7db2c56",
   "metadata": {},
   "outputs": [],
   "source": [
    "x = df_test.drop(\"HeartDisease\",axis=1)\n",
    "y = df_test[\"HeartDisease\"]"
   ]
  },
  {
   "cell_type": "code",
   "execution_count": 38,
   "id": "3845e5d0",
   "metadata": {},
   "outputs": [],
   "source": [
    "X_train, X_test, y_train, y_test = train_test_split(x,y,random_state=12,test_size=0.2,stratify=y)"
   ]
  },
  {
   "cell_type": "code",
   "execution_count": 39,
   "id": "65a1bcf9",
   "metadata": {},
   "outputs": [
    {
     "data": {
      "text/plain": [
       "0    233938\n",
       "1    233937\n",
       "Name: HeartDisease, dtype: int64"
      ]
     },
     "execution_count": 39,
     "metadata": {},
     "output_type": "execute_result"
    }
   ],
   "source": [
    "y_train.value_counts()"
   ]
  },
  {
   "cell_type": "code",
   "execution_count": 40,
   "id": "4bf18abc",
   "metadata": {},
   "outputs": [
    {
     "name": "stdout",
     "output_type": "stream",
     "text": [
      "DecisionTreeClassifier() accuracy score is :  0.9545948071711308\n",
      "              precision    recall  f1-score   support\n",
      "\n",
      "           0       0.91      1.00      0.95     53265\n",
      "           1       1.00      0.92      0.96     63704\n",
      "\n",
      "    accuracy                           0.95    116969\n",
      "   macro avg       0.95      0.96      0.95    116969\n",
      "weighted avg       0.96      0.95      0.95    116969\n",
      "\n",
      "--------------------------------------------------------------\n",
      "---------------------------------------------------------------\n",
      "KNeighborsClassifier() accuracy score is :  0.8976224469731297\n",
      "              precision    recall  f1-score   support\n",
      "\n",
      "           0       0.80      0.99      0.89     47191\n",
      "           1       0.99      0.83      0.91     69778\n",
      "\n",
      "    accuracy                           0.90    116969\n",
      "   macro avg       0.90      0.91      0.90    116969\n",
      "weighted avg       0.92      0.90      0.90    116969\n",
      "\n",
      "--------------------------------------------------------------\n",
      "---------------------------------------------------------------\n",
      "LogisticRegression() accuracy score is :  0.7488907317323393\n",
      "              precision    recall  f1-score   support\n",
      "\n",
      "           0       0.74      0.75      0.75     57218\n",
      "           1       0.76      0.74      0.75     59751\n",
      "\n",
      "    accuracy                           0.75    116969\n",
      "   macro avg       0.75      0.75      0.75    116969\n",
      "weighted avg       0.75      0.75      0.75    116969\n",
      "\n",
      "--------------------------------------------------------------\n",
      "---------------------------------------------------------------\n",
      "RandomForestClassifier() accuracy score is :  0.9690088826954151\n",
      "              precision    recall  f1-score   support\n",
      "\n",
      "           0       0.94      1.00      0.97     54913\n",
      "           1       1.00      0.94      0.97     62056\n",
      "\n",
      "    accuracy                           0.97    116969\n",
      "   macro avg       0.97      0.97      0.97    116969\n",
      "weighted avg       0.97      0.97      0.97    116969\n",
      "\n",
      "--------------------------------------------------------------\n",
      "---------------------------------------------------------------\n"
     ]
    }
   ],
   "source": [
    "models = [model_dt,model_knn,model_logistic,model_random]\n",
    "x = {}\n",
    "for i in models:\n",
    "    i.fit(X_train,y_train)\n",
    "    ypred = i.predict(X_test)\n",
    "    print(i,\"accuracy score is : \",accuracy_score(ypred,y_test))\n",
    "    print(classification_report(ypred,y_test))\n",
    "    print(\"--------------------------------------------------------------\")\n",
    "    print(\"---------------------------------------------------------------\")\n",
    "    "
   ]
  },
  {
   "cell_type": "code",
   "execution_count": 41,
   "id": "55e0df7f",
   "metadata": {},
   "outputs": [],
   "source": [
    "Random = RandomForestClassifier()"
   ]
  },
  {
   "cell_type": "code",
   "execution_count": 42,
   "id": "c536f6c6",
   "metadata": {},
   "outputs": [
    {
     "data": {
      "text/html": [
       "<style>#sk-container-id-1 {color: black;background-color: white;}#sk-container-id-1 pre{padding: 0;}#sk-container-id-1 div.sk-toggleable {background-color: white;}#sk-container-id-1 label.sk-toggleable__label {cursor: pointer;display: block;width: 100%;margin-bottom: 0;padding: 0.3em;box-sizing: border-box;text-align: center;}#sk-container-id-1 label.sk-toggleable__label-arrow:before {content: \"▸\";float: left;margin-right: 0.25em;color: #696969;}#sk-container-id-1 label.sk-toggleable__label-arrow:hover:before {color: black;}#sk-container-id-1 div.sk-estimator:hover label.sk-toggleable__label-arrow:before {color: black;}#sk-container-id-1 div.sk-toggleable__content {max-height: 0;max-width: 0;overflow: hidden;text-align: left;background-color: #f0f8ff;}#sk-container-id-1 div.sk-toggleable__content pre {margin: 0.2em;color: black;border-radius: 0.25em;background-color: #f0f8ff;}#sk-container-id-1 input.sk-toggleable__control:checked~div.sk-toggleable__content {max-height: 200px;max-width: 100%;overflow: auto;}#sk-container-id-1 input.sk-toggleable__control:checked~label.sk-toggleable__label-arrow:before {content: \"▾\";}#sk-container-id-1 div.sk-estimator input.sk-toggleable__control:checked~label.sk-toggleable__label {background-color: #d4ebff;}#sk-container-id-1 div.sk-label input.sk-toggleable__control:checked~label.sk-toggleable__label {background-color: #d4ebff;}#sk-container-id-1 input.sk-hidden--visually {border: 0;clip: rect(1px 1px 1px 1px);clip: rect(1px, 1px, 1px, 1px);height: 1px;margin: -1px;overflow: hidden;padding: 0;position: absolute;width: 1px;}#sk-container-id-1 div.sk-estimator {font-family: monospace;background-color: #f0f8ff;border: 1px dotted black;border-radius: 0.25em;box-sizing: border-box;margin-bottom: 0.5em;}#sk-container-id-1 div.sk-estimator:hover {background-color: #d4ebff;}#sk-container-id-1 div.sk-parallel-item::after {content: \"\";width: 100%;border-bottom: 1px solid gray;flex-grow: 1;}#sk-container-id-1 div.sk-label:hover label.sk-toggleable__label {background-color: #d4ebff;}#sk-container-id-1 div.sk-serial::before {content: \"\";position: absolute;border-left: 1px solid gray;box-sizing: border-box;top: 0;bottom: 0;left: 50%;z-index: 0;}#sk-container-id-1 div.sk-serial {display: flex;flex-direction: column;align-items: center;background-color: white;padding-right: 0.2em;padding-left: 0.2em;position: relative;}#sk-container-id-1 div.sk-item {position: relative;z-index: 1;}#sk-container-id-1 div.sk-parallel {display: flex;align-items: stretch;justify-content: center;background-color: white;position: relative;}#sk-container-id-1 div.sk-item::before, #sk-container-id-1 div.sk-parallel-item::before {content: \"\";position: absolute;border-left: 1px solid gray;box-sizing: border-box;top: 0;bottom: 0;left: 50%;z-index: -1;}#sk-container-id-1 div.sk-parallel-item {display: flex;flex-direction: column;z-index: 1;position: relative;background-color: white;}#sk-container-id-1 div.sk-parallel-item:first-child::after {align-self: flex-end;width: 50%;}#sk-container-id-1 div.sk-parallel-item:last-child::after {align-self: flex-start;width: 50%;}#sk-container-id-1 div.sk-parallel-item:only-child::after {width: 0;}#sk-container-id-1 div.sk-dashed-wrapped {border: 1px dashed gray;margin: 0 0.4em 0.5em 0.4em;box-sizing: border-box;padding-bottom: 0.4em;background-color: white;}#sk-container-id-1 div.sk-label label {font-family: monospace;font-weight: bold;display: inline-block;line-height: 1.2em;}#sk-container-id-1 div.sk-label-container {text-align: center;}#sk-container-id-1 div.sk-container {/* jupyter's `normalize.less` sets `[hidden] { display: none; }` but bootstrap.min.css set `[hidden] { display: none !important; }` so we also need the `!important` here to be able to override the default hidden behavior on the sphinx rendered scikit-learn.org. See: https://github.com/scikit-learn/scikit-learn/issues/21755 */display: inline-block !important;position: relative;}#sk-container-id-1 div.sk-text-repr-fallback {display: none;}</style><div id=\"sk-container-id-1\" class=\"sk-top-container\"><div class=\"sk-text-repr-fallback\"><pre>RandomForestClassifier()</pre><b>In a Jupyter environment, please rerun this cell to show the HTML representation or trust the notebook. <br />On GitHub, the HTML representation is unable to render, please try loading this page with nbviewer.org.</b></div><div class=\"sk-container\" hidden><div class=\"sk-item\"><div class=\"sk-estimator sk-toggleable\"><input class=\"sk-toggleable__control sk-hidden--visually\" id=\"sk-estimator-id-1\" type=\"checkbox\" checked><label for=\"sk-estimator-id-1\" class=\"sk-toggleable__label sk-toggleable__label-arrow\">RandomForestClassifier</label><div class=\"sk-toggleable__content\"><pre>RandomForestClassifier()</pre></div></div></div></div></div>"
      ],
      "text/plain": [
       "RandomForestClassifier()"
      ]
     },
     "execution_count": 42,
     "metadata": {},
     "output_type": "execute_result"
    }
   ],
   "source": [
    "Random.fit(X_train,y_train)"
   ]
  },
  {
   "cell_type": "code",
   "execution_count": 43,
   "id": "1815048f",
   "metadata": {},
   "outputs": [],
   "source": [
    "import joblib"
   ]
  },
  {
   "cell_type": "code",
   "execution_count": 44,
   "id": "0fab36bc",
   "metadata": {},
   "outputs": [
    {
     "data": {
      "text/plain": [
       "['model.pkl']"
      ]
     },
     "execution_count": 44,
     "metadata": {},
     "output_type": "execute_result"
    }
   ],
   "source": [
    "joblib.dump(Random,'model.pkl')"
   ]
  },
  {
   "cell_type": "code",
   "execution_count": null,
   "id": "881c1aa4",
   "metadata": {},
   "outputs": [],
   "source": []
  },
  {
   "cell_type": "code",
   "execution_count": null,
   "id": "e8fbc574",
   "metadata": {},
   "outputs": [],
   "source": []
  },
  {
   "cell_type": "code",
   "execution_count": null,
   "id": "79f88fc4",
   "metadata": {},
   "outputs": [],
   "source": []
  }
 ],
 "metadata": {
  "kernelspec": {
   "display_name": "Python 3",
   "language": "python",
   "name": "python3"
  },
  "language_info": {
   "codemirror_mode": {
    "name": "ipython",
    "version": 3
   },
   "file_extension": ".py",
   "mimetype": "text/x-python",
   "name": "python",
   "nbconvert_exporter": "python",
   "pygments_lexer": "ipython3",
   "version": "3.8.8"
  }
 },
 "nbformat": 4,
 "nbformat_minor": 5
}
